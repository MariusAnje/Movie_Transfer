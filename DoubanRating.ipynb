{
 "metadata": {
  "language_info": {
   "codemirror_mode": {
    "name": "ipython",
    "version": 3
   },
   "file_extension": ".py",
   "mimetype": "text/x-python",
   "name": "python",
   "nbconvert_exporter": "python",
   "pygments_lexer": "ipython3",
   "version": "3.7.4"
  },
  "orig_nbformat": 2,
  "kernelspec": {
   "name": "python374jvsc74a57bd004f3ce0738d928d74413a2b10d0d4c487f39bbf2ffd0e3f43a6ab028b956cd75",
   "display_name": "Python 3.7.4 64-bit ('base': conda)"
  }
 },
 "nbformat": 4,
 "nbformat_minor": 2,
 "cells": [
  {
   "cell_type": "code",
   "execution_count": 21,
   "metadata": {},
   "outputs": [],
   "source": [
    "import numpy as np\n",
    "from tqdm.notebook import tqdm"
   ]
  },
  {
   "cell_type": "code",
   "execution_count": 4,
   "metadata": {},
   "outputs": [],
   "source": [
    "IDs = np.load(\"ovIDs.npy\")"
   ]
  },
  {
   "cell_type": "code",
   "execution_count": 10,
   "metadata": {},
   "outputs": [],
   "source": [
    "Title_List_File = open(\"ID_Title.tsv\").read().split(\"\\n\")[1:]\n",
    "total_title_list = []\n",
    "for i in IDs:\n",
    "    total_title_list.append(Title_List_File[i].split(\"\\t\")[1])"
   ]
  },
  {
   "cell_type": "code",
   "execution_count": 24,
   "metadata": {},
   "outputs": [
    {
     "output_type": "display_data",
     "data": {
      "text/plain": "HBox(children=(HTML(value=''), FloatProgress(value=1.0, bar_style='info', layout=Layout(width='20px'), max=1.0…",
      "application/vnd.jupyter.widget-view+json": {
       "version_major": 2,
       "version_minor": 0,
       "model_id": "0d3862a651084277a852173fec0baf8e"
      }
     },
     "metadata": {}
    },
    {
     "output_type": "stream",
     "name": "stdout",
     "text": [
      "\n"
     ]
    }
   ],
   "source": [
    "import csv\n",
    "with open(\"data/douban/all_movies_with_id.txt\", encoding=\"UTF-8\") as csvfile:\n",
    "    spamreader = csv.reader(csvfile, delimiter=',')\n",
    "    last_title = \"\"\n",
    "    douban_title_list = []\n",
    "    douban_rating_list = []\n",
    "    for row in tqdm(spamreader):\n",
    "        title = row[1]\n",
    "        if title != last_title:\n",
    "            douban_title_list.append(title)\n",
    "            douban_rating_list.append(float(row[2]))\n",
    "            last_title = title\n",
    "douban_title_list = douban_title_list[1:]\n",
    "douban_rating_list = douban_rating_list[1:]"
   ]
  },
  {
   "cell_type": "code",
   "execution_count": 31,
   "metadata": {},
   "outputs": [],
   "source": [
    "douban_title_list_cleaned = []\n",
    "for title in douban_title_list:\n",
    "    douban_title_list_cleaned.append(title[title.find(\" \") + 1:])"
   ]
  },
  {
   "cell_type": "code",
   "execution_count": 50,
   "metadata": {},
   "outputs": [
    {
     "output_type": "display_data",
     "data": {
      "text/plain": "HBox(children=(HTML(value=''), FloatProgress(value=0.0, max=8510.0), HTML(value='')))",
      "application/vnd.jupyter.widget-view+json": {
       "version_major": 2,
       "version_minor": 0,
       "model_id": "031504ee4bc34140b4357ef2960d642e"
      }
     },
     "metadata": {}
    },
    {
     "output_type": "stream",
     "name": "stdout",
     "text": [
      "\n5570\n"
     ]
    }
   ],
   "source": [
    "OvDouanRating = [-1 for _ in range(len(total_title_list))]\n",
    "for i, title in enumerate(tqdm(total_title_list)):\n",
    "    if title in douban_title_list_cleaned:\n",
    "        index = douban_title_list_cleaned.index(title)\n",
    "        rating = douban_rating_list[index]\n",
    "        OvDouanRating[i] = float(rating)\n",
    "print(lol)"
   ]
  },
  {
   "cell_type": "code",
   "execution_count": 51,
   "metadata": {},
   "outputs": [
    {
     "output_type": "stream",
     "name": "stdout",
     "text": [
      "[7.8, 8.3, -1, -1, -1, 8.0, 6.2, -1, -1, 7.7, -1, -1, -1, 7.9, -1, -1, -1, -1, -1, -1, -1, -1, -1, -1, -1, -1, 8.2, -1, -1, -1, -1, 7.5, -1, -1, 6.6, -1, 6.3, 8.0, -1, 6.2, -1, 7.3, -1, 7.9, -1, -1, -1, -1, 5.9, -1, -1, -1, -1, -1, -1, 7.4, 8.8, 7.2, -1, -1, -1, 7.7, -1, 7.1, -1, 8.4, 6.3, 7.4, 6.3, -1, 7.1, 9.3, 8.0, -1, 7.7, -1, -1, -1, -1, 7.0, -1, 7.9, -1, -1, -1, 6.5, 8.6, -1, -1, -1, -1, -1, -1, -1, -1, -1, -1, -1, 6.4, -1]\n"
     ]
    }
   ],
   "source": [
    "print(OvDouanRating[:100])"
   ]
  },
  {
   "cell_type": "code",
   "execution_count": 52,
   "metadata": {},
   "outputs": [],
   "source": [
    "c = np.load(\"IMDBIntersectDouban.npy\", allow_pickle=True)"
   ]
  },
  {
   "cell_type": "code",
   "execution_count": 54,
   "metadata": {},
   "outputs": [],
   "source": [
    "np.save(\"OvDouanRating\", OvDouanRating)"
   ]
  },
  {
   "cell_type": "code",
   "execution_count": 55,
   "metadata": {},
   "outputs": [],
   "source": [
    "q = np.load(\"npAttrEmbOv.npy\")"
   ]
  },
  {
   "cell_type": "code",
   "execution_count": 66,
   "metadata": {},
   "outputs": [],
   "source": [
    "useful = []\n",
    "for i in range(len(OvDouanRating)):\n",
    "    new = np.concatenate([q[i], np.array(OvDouanRating[i]).reshape(1)])\n",
    "    useful.append(new)\n",
    "useful = np.array(useful)\n",
    "np.save(\"npAttrEmbOvwDoubanR\", useful)"
   ]
  },
  {
   "cell_type": "code",
   "execution_count": 64,
   "metadata": {},
   "outputs": [
    {
     "output_type": "execute_result",
     "data": {
      "text/plain": [
       "[7.8, 8.3, -1, -1, -1, 8.0, 6.2, -1, -1, 7.7]"
      ]
     },
     "metadata": {},
     "execution_count": 64
    }
   ],
   "source": [
    "OvDouanRating[:10]"
   ]
  },
  {
   "cell_type": "code",
   "execution_count": 68,
   "metadata": {},
   "outputs": [
    {
     "output_type": "execute_result",
     "data": {
      "text/plain": [
       "8510"
      ]
     },
     "metadata": {},
     "execution_count": 68
    }
   ],
   "source": [
    "len(useful)"
   ]
  },
  {
   "cell_type": "code",
   "execution_count": null,
   "metadata": {},
   "outputs": [],
   "source": []
  }
 ]
}