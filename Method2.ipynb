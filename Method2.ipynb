{
 "metadata": {
  "language_info": {
   "codemirror_mode": {
    "name": "ipython",
    "version": 3
   },
   "file_extension": ".py",
   "mimetype": "text/x-python",
   "name": "python",
   "nbconvert_exporter": "python",
   "pygments_lexer": "ipython3",
   "version": "3.7.4"
  },
  "orig_nbformat": 2,
  "kernelspec": {
   "name": "python374jvsc74a57bd004f3ce0738d928d74413a2b10d0d4c487f39bbf2ffd0e3f43a6ab028b956cd75",
   "display_name": "Python 3.7.4 64-bit ('base': conda)"
  }
 },
 "nbformat": 4,
 "nbformat_minor": 2,
 "cells": [
  {
   "cell_type": "code",
   "execution_count": 1,
   "metadata": {},
   "outputs": [],
   "source": [
    "import torch\n",
    "from torch import nn\n",
    "from torch import optim\n",
    "import numpy as np\n",
    "from tqdm.notebook import tqdm"
   ]
  },
  {
   "cell_type": "code",
   "execution_count": 2,
   "metadata": {},
   "outputs": [],
   "source": [
    "def get_subset(dataset, indices, region):\n",
    "    subset = []\n",
    "    for i in indices:\n",
    "        subset.append((dataset[i][region[0]], dataset[i][region[1]]))\n",
    "    return subset\n",
    "\n",
    "def slash_train_val(dataset, percentage):\n",
    "    total = len(dataset)\n",
    "    val_data = np.random.choice(list(range(total)),int(total*percentage), replace=False).tolist()\n",
    "    train_data = list(set(range(total)) - set(val_data))\n",
    "    return val_data, train_data"
   ]
  },
  {
   "cell_type": "code",
   "execution_count": 3,
   "metadata": {},
   "outputs": [
    {
     "output_type": "stream",
     "name": "stdout",
     "text": [
      "1276\n7234\n"
     ]
    }
   ],
   "source": [
    "# dataSetFile: 2D numpy array, [# of moives, # of attributes]\n",
    "# dataSetFile[0] --> 211 elements, [0:50] plot embeddings, [50:209] attributes, [209] IMDB rating, [210] Douban rating; Missing data = -1\n",
    "dataSetFile = np.load(\"npAttrEmbOvwDoubanR.npy\")\n",
    "\n",
    "isMethod1 = False\n",
    "if isMethod1:\n",
    "    dataset = []\n",
    "    for i in range(len(dataSetFile)):\n",
    "        dataset.append((np.concatenate([dataSetFile[i,0:50]/1000, dataSetFile[i,50:209],dataSetFile[i,209:210]]), dataSetFile[i,210])) # data normalization\n",
    "    # IMDBintersectDouban: 1D array, movie indices in dataSetFile that IMDB $\\cap$ Douban\n",
    "    IMDBintersectDouban = np.load(\"IMDBIntersectDouban.npy\")\n",
    "    dataset_intersect = get_subset(dataset, IMDBintersectDouban, [0,1])\n",
    "\n",
    "    # IMDBintersectDouban: 1D array, movie indices in dataSetFile that IMDB $-$ Douban\n",
    "    IMDBDifferenceDouban = np.load(\"IMDBDifferenceDouban.npy\")\n",
    "    dataset_difference = get_subset(dataset, IMDBDifferenceDouban, [0,1])\n",
    "\n",
    "    percentage = 0.15 # percentage of the evaluation set\n",
    "\n",
    "    # slash the three datasets into training and evaluation set\n",
    "    train_total, val_total = slash_train_val(dataset, percentage)\n",
    "    train_intersect, val_intersect = slash_train_val(dataset_intersect, percentage)\n",
    "    train_difference, val_difference = slash_train_val(dataset_difference, percentage)\n",
    "else:\n",
    "    dataset = []\n",
    "    for i in range(len(dataSetFile)):\n",
    "        dataset.append((np.concatenate([dataSetFile[i,0:50]/1000, dataSetFile[i,50:209]]), dataSetFile[i,209], dataSetFile[i,210])) # data normalization\n",
    "\n",
    "    # IMDBintersectDouban: 1D array, movie indices in dataSetFile that IMDB $\\cap$ Douban\n",
    "    IMDBintersectDouban = np.load(\"IMDBIntersectDouban.npy\")\n",
    "    dataset_intersect = get_subset(dataset, IMDBintersectDouban, [0,2])\n",
    "\n",
    "    # IMDBintersectDouban: 1D array, movie indices in dataSetFile that IMDB $-$ Douban\n",
    "    IMDBDifferenceDouban = np.load(\"IMDBDifferenceDouban.npy\")\n",
    "    dataset_difference = get_subset(dataset, IMDBDifferenceDouban, [0,1])\n",
    "\n",
    "    percentage = 0.15 # percentage of the evaluation set\n",
    "\n",
    "    # slash the three datasets into training and evaluation set\n",
    "    train_total, val_total = slash_train_val(dataset, percentage)\n",
    "    train_intersect, val_intersect = slash_train_val(dataset_intersect, percentage)\n",
    "    train_difference, val_difference = slash_train_val(dataset_difference, percentage)\n",
    "\n",
    "# sanity check\n",
    "print(len(train_total))\n",
    "print(len(val_total))"
   ]
  },
  {
   "cell_type": "code",
   "execution_count": 4,
   "metadata": {},
   "outputs": [],
   "source": [
    "# The model we use\n",
    "class Net(nn.Module):\n",
    "    def __init__(self):\n",
    "        super(Net, self).__init__()\n",
    "        exp = 128\n",
    "        emb1 = 10\n",
    "        emb2 = 20 \n",
    "        self.fc11 = torch.nn.Linear(50, emb1)\n",
    "        self.fc12 = torch.nn.Linear(159, emb2)\n",
    "        \n",
    "        self.fc2 = nn.Linear(emb1+emb2, exp)\n",
    "        self.fc3 = nn.Linear(exp, exp)\n",
    "        self.fc4 = nn.Linear(exp,10)\n",
    "        self.drop = torch.nn.Dropout(0.0)\n",
    "        self.tail = torch.nn.Softmax(dim=1)\n",
    "        self.relu = torch.nn.ReLU()\n",
    "\n",
    "    def forward(self, x):\n",
    "        x1 = self.drop(self.relu(self.fc11(x[:,:50])))\n",
    "        x2 = self.drop(self.relu(self.fc12(x[:,50:209])))\n",
    "\n",
    "        x = torch.cat([x1,x2],dim=1)\n",
    "        x = self.drop(self.relu(self.fc2(x)))\n",
    "        x = self.drop(self.relu(self.fc3(x)))\n",
    "        return (self.tail(self.fc4(x)) * (torch.Tensor(list(range(1,11))).to(x.device))).sum(dim=1)"
   ]
  },
  {
   "cell_type": "code",
   "execution_count": 5,
   "metadata": {},
   "outputs": [],
   "source": [
    "# Training and testing functions for pytorch\n",
    "def train(epochs):\n",
    "    loss_min = 10000\n",
    "    iter_loader = tqdm(range(epochs))\n",
    "    for _ in iter_loader:\n",
    "        running_loss = 0.\n",
    "        i = 0\n",
    "        for data, labels in train_loader:\n",
    "            # data = expand_data(data)\n",
    "            data, labels = data.float().to(device), labels.to(device)\n",
    "            # print(data[0], labels[0])\n",
    "            # break\n",
    "            optimizer.zero_grad()\n",
    "            output = model(data)\n",
    "            # print(output.size())\n",
    "            loss = criteria(output, labels.view(output.size()).float())\n",
    "            loss.backward()\n",
    "            optimizer.step()\n",
    "            running_loss += loss.item()\n",
    "            i += 1\n",
    "        # print(running_loss/i)\n",
    "        scheduler.step()\n",
    "        val_loss = val()\n",
    "        iter_loader.set_description(f\"{running_loss/i:.4f}, {val_loss:.4f}, {loss_min:.4f}\")\n",
    "        if val_loss < loss_min:\n",
    "            loss_min = val_loss\n",
    "\n",
    "def val():\n",
    "    running_loss = 0.\n",
    "    i = 0\n",
    "    for data, labels in val_loader:\n",
    "        # data = expand_data(data)\n",
    "        data, labels = data.float().to(device), labels.to(device)\n",
    "        output = model(data)\n",
    "        loss = criteria(output, labels.view(output.size()).float())\n",
    "        running_loss += loss.item()\n",
    "        i+=1\n",
    "    return running_loss/i"
   ]
  },
  {
   "source": [
    "## Baseline"
   ],
   "cell_type": "markdown",
   "metadata": {}
  },
  {
   "cell_type": "code",
   "execution_count": 21,
   "metadata": {
    "tags": []
   },
   "outputs": [
    {
     "output_type": "display_data",
     "data": {
      "text/plain": "HBox(children=(HTML(value=''), FloatProgress(value=0.0, max=500.0), HTML(value='')))",
      "application/vnd.jupyter.widget-view+json": {
       "version_major": 2,
       "version_minor": 0,
       "model_id": "0636d13d316b4818ac59b1c65a5c1d67"
      }
     },
     "metadata": {}
    },
    {
     "output_type": "stream",
     "name": "stdout",
     "text": [
      "\n"
     ]
    }
   ],
   "source": [
    "# training and validation loader definition\n",
    "train_loader = torch.utils.data.DataLoader(torch.utils.data.Subset(dataset_intersect, train_intersect), batch_size=1024, shuffle=True)\n",
    "val_loader = torch.utils.data.DataLoader(torch.utils.data.Subset(dataset_intersect, val_intersect), batch_size=1024, shuffle=False)\n",
    "\n",
    "device = torch.device(\"cuda:0\") if torch.cuda.is_available() else torch.device(\"cpu\")\n",
    "model = Net()\n",
    "model = model.to(device)\n",
    "optimizer = optim.SGD(model.parameters(), 0.1, momentum=0.9, weight_decay=0.)\n",
    "# optimizer = optim.Adam(model.parameters(), 0.1)\n",
    "# scheduler = optim.lr_scheduler.MultiStepLR(optimizer, [40, 60, 80], 0.8)\n",
    "scheduler = optim.lr_scheduler.MultiStepLR(optimizer, [300, 600, 900], 0.1)\n",
    "criteria = nn.MSELoss()\n",
    "train(500)"
   ]
  },
  {
   "source": [
    "### Baseline Experiment Log\n",
    "1. 0.7178\n",
    "2. 0.7118\n",
    "3. 0.7157\n",
    "4. 0.7184\n",
    "5. 0.7158"
   ],
   "cell_type": "markdown",
   "metadata": {}
  },
  {
   "source": [
    "## Transfer"
   ],
   "cell_type": "markdown",
   "metadata": {}
  },
  {
   "cell_type": "code",
   "execution_count": 40,
   "metadata": {},
   "outputs": [
    {
     "output_type": "display_data",
     "data": {
      "text/plain": "HBox(children=(HTML(value=''), FloatProgress(value=0.0), HTML(value='')))",
      "application/vnd.jupyter.widget-view+json": {
       "version_major": 2,
       "version_minor": 0,
       "model_id": "fc5748d5827e402084c561c0050c1175"
      }
     },
     "metadata": {}
    },
    {
     "output_type": "stream",
     "name": "stdout",
     "text": [
      "\n"
     ]
    },
    {
     "output_type": "display_data",
     "data": {
      "text/plain": "HBox(children=(HTML(value=''), FloatProgress(value=0.0, max=400.0), HTML(value='')))",
      "application/vnd.jupyter.widget-view+json": {
       "version_major": 2,
       "version_minor": 0,
       "model_id": "cd1d7b25b24f435ba6969d16da726309"
      }
     },
     "metadata": {}
    },
    {
     "output_type": "stream",
     "name": "stdout",
     "text": [
      "\n"
     ]
    }
   ],
   "source": [
    "train_loader = torch.utils.data.DataLoader(torch.utils.data.Subset(dataset_difference, train_difference), batch_size=1024, shuffle=True)\n",
    "val_loader = torch.utils.data.DataLoader(torch.utils.data.Subset(dataset_difference, val_difference), batch_size=1024, shuffle=False)\n",
    "\n",
    "device = torch.device(\"cuda:0\") if torch.cuda.is_available() else torch.device(\"cpu\")\n",
    "model = Net()\n",
    "model = model.to(device)\n",
    "optimizer = optim.SGD(model.parameters(), 0.1, momentum=0.9, weight_decay=0.)\n",
    "\n",
    "\n",
    "scheduler = optim.lr_scheduler.MultiStepLR(optimizer, [300, 600, 900], 0.1)\n",
    "criteria = nn.MSELoss()\n",
    "train(100)\n",
    "train_loader = torch.utils.data.DataLoader(torch.utils.data.Subset(dataset_intersect, train_intersect), batch_size=1024, shuffle=True)\n",
    "val_loader = torch.utils.data.DataLoader(torch.utils.data.Subset(dataset_intersect, val_intersect), batch_size=1024, shuffle=False)\n",
    "\n",
    "criteria = nn.MSELoss()\n",
    "train(400)"
   ]
  },
  {
   "source": [
    "### Transfer Experiment Log\n",
    "\n",
    "**Source 150**\n",
    "\n",
    "1. 0.6973\n",
    "2. 0.7249\n",
    "3. 0.7003\n",
    "4. 0.7204\n",
    "5. 0.7047\n",
    "6. 0.7253\n",
    "\n",
    "**Source 100**\n",
    "\n",
    "1. 0.7111\n",
    "2. 0.7031\n",
    "3. 0.7183\n",
    "4. 0.7087\n",
    "5. 0.7048\n",
    "6. 0.7077\n",
    "7. 0.7036\n",
    "8. 0.7004\n",
    "9. 0.7059\n",
    "10. 0.7111"
   ],
   "cell_type": "markdown",
   "metadata": {}
  },
  {
   "cell_type": "code",
   "execution_count": 42,
   "metadata": {},
   "outputs": [
    {
     "output_type": "stream",
     "name": "stdout",
     "text": [
      "[LibSVM]"
     ]
    },
    {
     "output_type": "execute_result",
     "data": {
      "text/plain": [
       "tensor(736.9816, dtype=torch.float64)"
      ]
     },
     "metadata": {},
     "execution_count": 42
    }
   ],
   "source": [
    "from sklearn import svm\n",
    "TS = torch.utils.data.Subset(dataset_intersect, train_intersect)\n",
    "VS = torch.utils.data.Subset(dataset_intersect, val_intersect)\n",
    "train_loader = torch.utils.data.DataLoader(TS, batch_size=len(TS), shuffle=True)\n",
    "val_loader = torch.utils.data.DataLoader(VS, batch_size=len(VS), shuffle=False)\n",
    "for X,y in train_loader:\n",
    "    pass\n",
    "regr = svm.SVR(kernel=\"poly\", degree=10, gamma=\"scale\", tol=1e-4, verbose=True)\n",
    "regr.fit(X, y)\n",
    "for X,y in val_loader:\n",
    "    pass\n",
    "T = regr.predict(X).astype(\"float32\")\n",
    "criteria(torch.Tensor(T), y)"
   ]
  },
  {
   "cell_type": "code",
   "execution_count": null,
   "metadata": {},
   "outputs": [],
   "source": []
  }
 ]
}