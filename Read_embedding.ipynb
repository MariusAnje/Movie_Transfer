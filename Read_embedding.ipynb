{
 "metadata": {
  "language_info": {
   "codemirror_mode": {
    "name": "ipython",
    "version": 3
   },
   "file_extension": ".py",
   "mimetype": "text/x-python",
   "name": "python",
   "nbconvert_exporter": "python",
   "pygments_lexer": "ipython3",
   "version": "3.7.4-final"
  },
  "orig_nbformat": 2,
  "kernelspec": {
   "name": "python374jvsc74a57bd004f3ce0738d928d74413a2b10d0d4c487f39bbf2ffd0e3f43a6ab028b956cd75",
   "display_name": "Python 3.7.4 64-bit ('Mariu': virtualenv)"
  }
 },
 "nbformat": 4,
 "nbformat_minor": 2,
 "cells": [
  {
   "cell_type": "code",
   "execution_count": 1,
   "metadata": {},
   "outputs": [],
   "source": [
    "import numpy as np"
   ]
  },
  {
   "cell_type": "code",
   "execution_count": 2,
   "metadata": {},
   "outputs": [],
   "source": [
    "with open(\"Embedding/movieEmbedding3.txt\", encoding=\"utf-8\") as embFile:\n",
    "    total_file = embFile.read().split(\"\\n\")\n",
    "with open(\"ID_Title.tsv\") as embFile:\n",
    "    title_file = embFile.read().split(\"\\n\")\n",
    "title_list = []\n",
    "for line in title_file[1:-1]:\n",
    "    title_list.append(line.split(\"\\t\")[1])"
   ]
  },
  {
   "cell_type": "code",
   "execution_count": 3,
   "metadata": {},
   "outputs": [],
   "source": [
    "def parse_line(line:str):\n",
    "    for i in range(len(line)-1,-1,-1):\n",
    "        if line[i] == \"[\":\n",
    "            index = i\n",
    "            break\n",
    "    title = line[:i-1]\n",
    "    emb = line[i+1:]\n",
    "    return title, emb"
   ]
  },
  {
   "cell_type": "code",
   "execution_count": 4,
   "metadata": {},
   "outputs": [],
   "source": [
    "def parse_emb(emb:str):\n",
    "    emb_out = []\n",
    "    start = 0\n",
    "    end = 0\n",
    "    flag = True\n",
    "    sFlag = True\n",
    "    for i in range(len(emb)):\n",
    "        if emb[i] != \" \" and sFlag == True:\n",
    "            start = i\n",
    "            sFlag = False\n",
    "            flag = False\n",
    "        if emb[i] == \" \" and flag == False:\n",
    "            end = i\n",
    "            flag = True\n",
    "        if emb[i] != \" \" and flag == True:\n",
    "            emb_out.append(float(emb[start:end]))\n",
    "            start = i\n",
    "            flag = False\n",
    "    if flag == True:\n",
    "        emb_out.append(float(emb[start:end]))\n",
    "    if end < len(emb):\n",
    "        try:\n",
    "            emb_out.append(float(emb[end:]))\n",
    "        except:\n",
    "            pass\n",
    "    return emb_out"
   ]
  },
  {
   "cell_type": "code",
   "execution_count": 5,
   "metadata": {
    "tags": []
   },
   "outputs": [
    {
     "output_type": "stream",
     "name": "stdout",
     "text": [
      "34886\n34886\n"
     ]
    }
   ],
   "source": [
    "lol = 0\n",
    "total_emb = []\n",
    "emb_title = []\n",
    "for i in range(len(total_file)):\n",
    "    line = total_file[i]\n",
    "    if line.find(\"[\") != -1:\n",
    "        title, emb = parse_line(line)\n",
    "        emb_title.append(title)\n",
    "        for j in range(i+1, i+13):\n",
    "            if total_file[j].find(\"]\") != -1:\n",
    "                index = j\n",
    "                lol += 1\n",
    "                emb += total_file[j][:-1]\n",
    "                break\n",
    "            else:\n",
    "                emb += \"  \" + total_file[j]\n",
    "        emb_movie = parse_emb(emb)\n",
    "        total_emb.append(emb_movie)\n",
    "total_emb = np.array(total_emb)\n",
    "print(lol)\n",
    "print(len(total_emb))"
   ]
  },
  {
   "cell_type": "code",
   "execution_count": 11,
   "metadata": {},
   "outputs": [
    {
     "output_type": "stream",
     "name": "stdout",
     "text": [
      "10370\n9158\n"
     ]
    }
   ],
   "source": [
    "ID_emb = np.zeros([len(title_list),max_emb_l])\n",
    "lol = 0 \n",
    "Overlap_list = []\n",
    "for i in range(len(total_emb)):\n",
    "    title = emb_title[i]\n",
    "    try:\n",
    "        kth = title_list.index(title)\n",
    "        ID_emb[kth,:] = total_emb[i]\n",
    "        lol += 1\n",
    "        Overlap_list.append(kth)\n",
    "    except:\n",
    "        pass\n",
    "print(lol)\n",
    "Overlap_list = list(set(Overlap_list))\n",
    "print(len(Overlap_list))"
   ]
  },
  {
   "cell_type": "code",
   "execution_count": 12,
   "metadata": {},
   "outputs": [
    {
     "output_type": "stream",
     "name": "stdout",
     "text": [
      "19199\n"
     ]
    }
   ],
   "source": [
    "rating = np.load(\"npRatings.npy\")\n",
    "rating_ID = []\n",
    "for i in range(len(rating)):\n",
    "    if rating[i] != -1:\n",
    "        rating_ID.append(i)\n",
    "print(len(rating_ID))"
   ]
  },
  {
   "cell_type": "code",
   "execution_count": 16,
   "metadata": {},
   "outputs": [
    {
     "output_type": "stream",
     "name": "stdout",
     "text": [
      "8510\n"
     ]
    }
   ],
   "source": [
    "def Ov(list1, list2):\n",
    "    return list(set(list1) & set(list2))\n",
    "print(len(Ov(rating_ID, Overlap_list)))"
   ]
  },
  {
   "cell_type": "code",
   "execution_count": 24,
   "metadata": {},
   "outputs": [],
   "source": [
    "attr = np.load(\"npHot.npy\")\n",
    "attrWEmb = []\n",
    "for ID in Ov(rating_ID, Overlap_list):\n",
    "    attrWEmb.append(np.concatenate([ID_emb[ID,:], attr[ID,:], rating[ID].reshape([1])]))\n",
    "attrWEmb = np.array(attrWEmb)\n",
    "np.save(\"npAttrEmbOv.npy\", attrWEmb)"
   ]
  },
  {
   "cell_type": "code",
   "execution_count": 7,
   "metadata": {},
   "outputs": [
    {
     "output_type": "stream",
     "name": "stdout",
     "text": [
      "50\n50\n"
     ]
    }
   ],
   "source": [
    "sss = np.random.choice(list(range(len(total_emb))), 10)\n",
    "max_emb_l = 0\n",
    "min_emb_l = 1000\n",
    "for item in total_emb:\n",
    "    emb_l = len(item)\n",
    "    if emb_l > max_emb_l:\n",
    "        max_emb_l = emb_l\n",
    "    if emb_l < min_emb_l:\n",
    "        min_emb_l = emb_l\n",
    "print(max_emb_l)\n",
    "print(min_emb_l)"
   ]
  },
  {
   "cell_type": "code",
   "execution_count": 11,
   "metadata": {},
   "outputs": [
    {
     "output_type": "stream",
     "name": "stdout",
     "text": [
      "[[ 1.42170608e+01  5.73769085e+00 -6.84271207e+00 -7.95668329e+00\n   2.94719530e+01  2.39522949e+01 -4.53777985e+01  1.02621173e+01\n  -1.58800980e+01 -3.67696274e+00 -1.01534342e+00  1.69634583e+01\n  -4.66639975e+01 -4.54184252e+00  3.29209611e+01 -1.31326093e+00\n  -2.18646433e+00 -1.22678917e+00 -2.66766706e+01 -1.86682488e+01\n   6.31302271e+00  2.25363865e+01 -3.30277733e+00 -4.04599353e+00\n   7.68861144e+00 -1.18627694e+02 -1.12090335e+01  4.71753930e-01\n   1.18019607e+01 -1.75644906e+01  2.01987204e+02  5.30889359e+00\n  -6.91342318e+00 -1.65586462e+01  6.49383172e+00  5.28470905e+00\n  -8.71453730e-01  1.05906459e+01  7.50538916e+00 -2.23975847e+01\n  -8.36147276e+00  1.08790606e+01 -1.53368080e+01  5.81636070e+00\n  -5.57282633e+00 -8.47751723e+00 -8.52311241e+00 -1.54395706e+01\n  -5.05194144e+00 -3.36118431e+00]\n [ 7.78697936e+01  6.09916116e+01 -4.12917222e+01 -2.74462848e+01\n   9.07750842e+01  5.53870484e+01 -1.15822811e+02  8.80510734e+00\n  -3.53811957e+01 -3.71647241e+01 -1.07610853e+01  7.37389592e+00\n  -9.38843841e+01 -1.74561696e+00  8.83020667e+01  9.16512086e+00\n  -1.38647888e+01 -5.25461950e+00 -9.19335650e+01 -6.81474947e+01\n   4.21528075e+01  8.11239198e+01  4.69188243e+00  8.65052070e-01\n   2.87709040e+01 -3.46743057e+02 -5.30344672e+01  2.25027570e+01\n   1.42025061e+01 -3.70597757e+01  6.66751963e+02  1.69677212e+01\n  -3.42117363e+01 -6.31735824e+01  2.10880592e+01  1.10629414e+01\n   3.34056098e+01  3.22032752e+01  1.28527791e+01 -3.89120793e+01\n  -1.98523062e+01  4.20812348e+01 -2.63571560e+01  6.66229370e+00\n  -2.51191312e+00 -2.19645014e+01 -2.93506522e+01 -7.29033717e+01\n   4.95832930e+00 -1.36439923e+01]\n [ 9.51527962e+01  2.54765829e+01 -5.65541578e+01 -3.42777120e+01\n   1.56207136e+02  1.09061626e+02 -7.42837817e+01  1.55623330e+00\n  -4.75166219e+01 -6.83618790e+00  1.92540804e+00  3.63104126e+01\n  -1.17039702e+02 -4.47803648e+01  1.17594080e+02  4.68292484e+01\n  -1.13719713e+01 -5.74284839e+00 -3.80541108e+01 -6.97102238e+01\n   2.46762080e+01  1.11838065e+02  3.01777720e+01  6.27721234e+00\n   9.97145632e+01 -4.49004205e+02 -7.23447145e+01  2.48991713e+00\n   1.42936387e+01 -1.01159507e+02  7.90220002e+02  5.47395102e+01\n  -7.59197945e+01 -5.79046449e+01  2.69051965e+01 -1.31921715e+01\n  -5.46361608e+00  3.86842781e+01 -2.09593995e+01 -6.21686519e+01\n  -5.40658238e+01  5.30584382e+01 -3.95639046e+01 -2.14582586e+01\n   9.59740484e+00 -3.37988477e+01 -2.94547228e-01 -9.15337437e+01\n   4.38633533e+00 -2.08152848e+01]\n [ 8.42605792e+00  9.76655893e+00 -7.63172968e+00 -1.16138041e+01\n   2.59530508e+01  1.93921648e+01 -2.70295200e+01 -5.41706295e-02\n  -1.17673484e+01  3.09770091e+00 -5.53048959e+00  1.52020601e+01\n  -2.29399864e+01 -7.66775981e+00  2.19167364e+01  4.89554387e+00\n   4.71536488e+00  1.35271298e+00 -8.81919129e+00 -1.18477330e+01\n  -5.57666988e+00  2.02086270e+01  4.00345112e+00  8.18474023e-01\n   1.43869830e+01 -8.83713792e+01 -2.06248927e+01  8.88697889e-01\n   1.05952639e+01 -1.16991911e+01  1.34417192e+02 -1.76840097e+00\n  -1.40672875e+01 -1.86927963e+01  4.71420059e+00 -2.16351379e+00\n   1.84416961e+00  9.29265704e+00  5.47632965e-01 -1.75817842e+01\n  -2.45230908e+00  1.01917782e+01 -1.06514682e+01  5.44288725e+00\n   8.36406929e-01  6.64237345e-01 -1.23345043e+01 -9.73906768e+00\n   2.38237166e-01  9.07847414e+00]\n [ 1.40273964e+02  1.56451514e+02 -1.00222108e+02 -1.09663636e+02\n   2.04306311e+02  2.51460387e+02 -3.28721705e+02  4.85759161e+01\n  -7.80635606e+01 -5.19818923e+01 -1.39192737e+01  8.97260697e+01\n  -1.83954625e+02 -9.34464478e+01  2.51727582e+02  4.24232428e+01\n  -8.64156892e+01 -2.68697098e+01 -1.41927935e+02 -1.13753620e+02\n   1.12129143e+01  2.81625674e+02  1.03470459e+02 -2.85444588e+00\n   1.26415201e+02 -9.07801306e+02 -9.64190706e+01  2.54167031e+01\n   5.76926453e+01 -1.52357546e+02  1.53843872e+03  5.55216497e+01\n  -1.16363649e+02 -1.58941828e+02  7.47952318e+01 -2.24017422e-01\n  -5.89605892e+00  9.98954879e+01  9.62070512e+01 -1.54181811e+02\n  -6.03131755e+01  1.43838252e+02 -5.10898771e+01 -4.67459442e+01\n   6.12159133e+00 -2.24549086e+01 -7.81343948e+01 -2.67015582e+02\n  -4.65641062e+01  9.88389330e+00]\n [ 7.92535500e+00  4.07398940e+00 -6.45362850e+00 -1.42660830e+00\n   1.27699250e+01  8.56176400e+00 -1.08468010e+01  2.19976230e+00\n  -2.77451970e+00 -8.10333700e+00  4.92559400e+00 -4.34116400e+00\n  -8.56640300e-01 -6.69230700e+00  7.46241470e+00  5.23175430e+00\n   4.85763070e+00  1.51794550e+00 -1.05692200e+01  7.15635730e+00\n   5.32308340e+00  3.09582100e+00  1.12094430e+00  6.37496850e+00\n   8.52402200e-01 -4.35489160e+01 -6.48023560e+00 -5.23360200e+00\n  -8.73022800e-01 -5.91487170e+00  7.42853600e+01  3.51128050e+00\n  -9.24398400e+00 -3.92379200e+00  1.55365670e+00  1.93094070e+00\n  -4.50462960e+00 -2.33725070e-01  1.35545180e+00  8.54769900e-01\n  -4.17823030e+00  6.11054130e+00  8.97386800e-01 -7.41651800e+00\n  -3.42571500e+00  3.21317980e+00 -6.19097600e+00 -5.48709730e+00\n  -1.88157490e+00 -1.08816820e+01]\n [ 1.48356214e+02  8.68961127e+01 -4.78200897e+01 -5.23364106e+01\n   2.11995213e+02  1.43162416e+02 -3.23158267e+02  3.77879309e+01\n  -9.73512908e+01 -7.06896681e+00 -3.89838353e+01  9.08827833e+01\n  -2.60506592e+02 -5.75359921e+01  3.04512258e+02  6.24566905e+01\n   8.35840314e+01  1.30301596e+01 -2.13224597e+02 -2.01372003e+02\n   2.35960793e+01  1.97211017e+02  9.67790414e+01  2.52430253e+00\n   1.11340701e+02 -9.53297411e+02 -1.38736167e+02  1.60653826e+01\n   1.17400928e+02 -2.20074786e+02  1.81885329e+03  1.52402213e+02\n  -1.59630606e+02 -1.05987095e+02  3.41955507e+01  2.23244133e+01\n   3.57859382e+01  7.72584701e+01  4.54255072e+01 -1.75232011e+02\n  -9.02135445e+01  9.64679437e+01 -8.14050297e+01  3.84952091e+01\n  -4.05703137e+01 -1.59800183e+01 -8.93801557e+01 -1.52588563e+02\n  -6.23272785e+01  1.40299762e+01]\n [ 1.39072372e+02  8.15910243e+01 -9.20193680e+01 -9.24098666e+01\n   1.56747681e+02  1.28675767e+02 -1.61775710e+02 -5.62052981e+01\n  -8.75025595e+01  5.50653474e+01  3.52253194e+01  5.35561557e+01\n  -1.19300758e+02 -3.01877171e+01  1.62895585e+02 -1.32312072e+01\n  -2.87495805e+01  1.05132375e+01 -1.36631367e+02 -9.28606125e+01\n   9.94064450e+00  1.09279178e+02  1.57573060e+01  1.13902133e+01\n   4.96333470e+01 -6.04211295e+02 -1.44156778e+02  1.04763263e+01\n   6.56875592e+00 -8.53429813e+01  1.11665427e+03 -1.62049102e+01\n  -5.70442195e+01 -1.54572948e+02  4.53530464e+01  4.96286333e+01\n   3.80255140e+01  6.39533297e+01  4.51045402e+00 -5.79314715e+01\n  -2.68337533e+01  9.45210881e+01 -2.74594514e+01  2.26854911e+00\n   3.72186238e+01 -2.43711845e+01 -4.95680438e+01 -1.60323290e+02\n   1.56782916e+01 -6.82911951e+01]\n [ 2.93622149e+01  2.83038699e+00 -6.11126475e+00 -1.58540579e+01\n   2.45689279e+01  3.99978059e+00 -3.03897831e+01  1.12998773e+01\n  -1.26831986e+01 -1.35175051e+01 -1.20518496e+00  3.60269686e+00\n  -2.57058114e+01 -1.06415793e+01  2.95696695e+01  5.98656580e-01\n  -4.28981036e+00  4.49476774e+00 -3.14294076e+01 -7.10785702e+00\n   8.44837712e+00  1.38203749e+01  9.83375800e+00 -6.53050273e+00\n  -2.45572233e+00 -1.20464048e+02 -5.62655551e+00  3.37978493e+00\n   1.50103884e+01 -5.63587415e+00  2.07444615e+02  1.61673287e+00\n  -1.43302896e+01 -2.54063373e+01  8.27410873e+00  1.05096104e+01\n  -1.14863219e+00  1.21252140e+01 -1.65865643e+00 -1.34437393e+01\n  -1.60940241e+01  9.19363313e+00  7.11526234e+00 -7.29052850e-01\n  -2.13976968e+00 -6.46263842e+00 -1.56071202e+01 -1.80386597e+01\n  -6.09362510e+00 -1.08131519e+01]\n [ 1.04123570e+01  7.46757200e+00 -5.47357940e+00 -2.23331600e+00\n   1.53302200e+00  6.04166400e+00 -1.63762990e+01 -4.98715940e-01\n   2.06753730e-01 -1.19332120e+01 -3.37366180e+00  1.21965390e+01\n  -7.20340870e+00 -9.94937000e+00  2.29643100e+00  2.76826120e+00\n   9.47634900e+00 -4.90483570e+00 -1.42696260e+01 -5.65068670e+00\n   3.99608760e+00  2.75852970e+00  1.92209900e+00 -7.47018930e-01\n   4.43315300e+00 -2.19555240e+01 -4.64906260e+00 -3.91030360e+00\n  -4.43774500e+00  2.58410980e+00  4.15890430e+01 -7.28118700e+00\n  -7.02488850e+00 -8.69814100e+00  5.76124600e+00 -2.67375950e+00\n  -1.70332360e+00 -4.12048500e+00  6.15555330e+00 -1.84075120e+00\n   2.04674030e+00  6.15541930e+00 -5.80113740e+00 -6.37561000e+00\n  -3.22890760e-01  2.82301800e+00 -4.80683100e-01 -8.03207300e+00\n   1.83942500e+00  5.03024340e-01]]\n"
     ]
    }
   ],
   "source": [
    "print(np.array(total_emb)[sss])"
   ]
  },
  {
   "cell_type": "code",
   "execution_count": 40,
   "metadata": {
    "tags": []
   },
   "outputs": [
    {
     "output_type": "stream",
     "name": "stdout",
     "text": [
      "19964\n"
     ]
    }
   ],
   "source": [
    "lol = 0\n",
    "for i in range(len(total_file)):\n",
    "    line = total_file[i]\n",
    "    if line == \"\":\n",
    "        try:\n",
    "            t = title_file[lol]\n",
    "            t_n = total_file[i+1].split(\"[\")[0][:-1]\n",
    "        \n",
    "            if t != t_n and total_file[i+1][0] !=\"[\":\n",
    "                print(t, t_n)\n",
    "                print(lol)\n",
    "                break\n",
    "            else:\n",
    "                lol += 1\n",
    "        except:\n",
    "            print(lol)\n",
    "print(lol)"
   ]
  },
  {
   "cell_type": "code",
   "execution_count": null,
   "metadata": {},
   "outputs": [],
   "source": []
  },
  {
   "cell_type": "code",
   "execution_count": 5,
   "metadata": {},
   "outputs": [],
   "source": [
    "with open(\"Genre_ID.tsv\", \"r\") as f:\n",
    "    genreList = []\n",
    "    for line in f.read().split(\"\\n\")[:-1]:\n",
    "        genreList.append(line.split(\"\\t\")[1])\n",
    "with open(\"Language_ID.tsv\", \"r\") as f:\n",
    "    languageList = []\n",
    "    for line in f.read().split(\"\\n\")[:-1]:\n",
    "        languageList.append(line.split(\"\\t\")[1])\n",
    "with open(\"Region_ID.tsv\", \"r\") as f:\n",
    "    regionList = []\n",
    "    for line in f.read().split(\"\\n\")[:-1]:\n",
    "        regionList.append(line.split(\"\\t\")[1])"
   ]
  },
  {
   "cell_type": "code",
   "execution_count": 6,
   "metadata": {},
   "outputs": [],
   "source": [
    "class Movie():\n",
    "    def __init__(self, attributes, genreList, languageList, regionList):\n",
    "        self.ID = None\n",
    "        self.title = attributes[2]\n",
    "        self.isAdult = int(attributes[3])\n",
    "        self.startYear = self.get_num(attributes[4])\n",
    "        self.endYear = self.get_num(attributes[5])\n",
    "        self.length = self.get_num(attributes[6])\n",
    "        self.genres = self.get_cat(attributes[7], genreList)\n",
    "        self.region = self.get_cat(attributes[8], regionList)[0]\n",
    "        self.language = self.get_cat(attributes[9], languageList)[0]\n",
    "        self.rating = self.get_num(attributes[10])\n",
    "    \n",
    "    def get_cat(self, attribute:str, aList:list):\n",
    "        myList = []\n",
    "        for a in attribute.replace(\"\\\"\",\"\").split(\",\"):\n",
    "            index = aList.index(a) - 1\n",
    "            myList.append(index)\n",
    "        return myList\n",
    "    \n",
    "    def get_num(self, attribute:str):\n",
    "        try:\n",
    "            attribute = float(attribute)\n",
    "        except:\n",
    "            attribute = -1.\n",
    "        return attribute"
   ]
  },
  {
   "cell_type": "code",
   "execution_count": 7,
   "metadata": {
    "tags": []
   },
   "outputs": [],
   "source": [
    "all_movie = []\n",
    "i = 0\n",
    "for line in total_file[1:-1]:\n",
    "    m = Movie(line.split(\"\\t\"), genreList, languageList, regionList)\n",
    "    if m.rating != \"\\\\N\":\n",
    "        m.ID = i\n",
    "        i +=1\n",
    "        all_movie.append(m)"
   ]
  },
  {
   "cell_type": "code",
   "execution_count": 8,
   "metadata": {},
   "outputs": [],
   "source": [
    "with open(\"ID_Title.tsv\", \"w+\") as f:\n",
    "    f.write(\"ID\\tTitle\\n\")\n",
    "    for m in all_movie:\n",
    "        f.write(str(m.ID) + \"\\t\" + m.title + \"\\n\")"
   ]
  },
  {
   "cell_type": "code",
   "execution_count": 9,
   "metadata": {},
   "outputs": [],
   "source": [
    "with open(\"ID_Rating.tsv\", \"w+\") as f:\n",
    "    f.write(\"ID\\tRating\\n\")\n",
    "    for m in all_movie:\n",
    "        f.write(str(m.ID) + \"\\t\" + str(m.rating) + \"\\n\")"
   ]
  },
  {
   "cell_type": "code",
   "execution_count": 11,
   "metadata": {},
   "outputs": [],
   "source": [
    "with open(\"ID_Attributes.tsv\", \"w+\") as f:\n",
    "    f.write(\"ID\\tisAdult\\tstartYear\\tendYear\\tlength\\tgenres\\tregion\\tlanguage\\n\")\n",
    "    for m in all_movie:\n",
    "        f.write(str(m.ID) + \"\\t\" + str(m.isAdult) + \"\\t\" + str(m.startYear) + \"\\t\" + str(m.endYear) + \"\\t\" + str(m.length) + \"\\t\" + str(m.genres).replace(\"[\",\"\").replace(\"]\",\"\")  + \"\\t\" + str(m.region)  + \"\\t\" + str(m.language) +\"\\n\")"
   ]
  },
  {
   "cell_type": "code",
   "execution_count": 21,
   "metadata": {},
   "outputs": [],
   "source": [
    "npAttributes = np.zeros([len(all_movie),10])\n",
    "def expand(mIn, size):\n",
    "    small = len(mIn)\n",
    "    assert small <= size\n",
    "    r = [-1 for _ in range(size)]\n",
    "    r[:small] = mIn \n",
    "    return r\n",
    "\n",
    "for i, m in enumerate(all_movie):\n",
    "    npAttributes[i,:5] = [m.ID, m.isAdult,m.startYear,m.endYear,m.length]\n",
    "    npAttributes[i,5:8] = expand(m.genres,3)\n",
    "    npAttributes[i,8:] = [m.region, m.language]\n",
    "np.save(\"npAttributes\",npAttributes)"
   ]
  },
  {
   "cell_type": "code",
   "execution_count": 22,
   "metadata": {},
   "outputs": [],
   "source": [
    "ratings = []\n",
    "for i, m in enumerate(all_movie):\n",
    "    ratings.append(m.rating)\n",
    "np.save(\"npRatings\", ratings)"
   ]
  },
  {
   "cell_type": "code",
   "execution_count": null,
   "metadata": {},
   "outputs": [],
   "source": []
  }
 ]
}