{
 "metadata": {
  "language_info": {
   "codemirror_mode": {
    "name": "ipython",
    "version": 3
   },
   "file_extension": ".py",
   "mimetype": "text/x-python",
   "name": "python",
   "nbconvert_exporter": "python",
   "pygments_lexer": "ipython3",
   "version": "3.7.4"
  },
  "orig_nbformat": 2,
  "kernelspec": {
   "name": "python374jvsc74a57bd004f3ce0738d928d74413a2b10d0d4c487f39bbf2ffd0e3f43a6ab028b956cd75",
   "display_name": "Python 3.7.4 64-bit ('base': conda)"
  }
 },
 "nbformat": 4,
 "nbformat_minor": 2,
 "cells": [
  {
   "cell_type": "code",
   "execution_count": 1,
   "metadata": {},
   "outputs": [],
   "source": [
    "import numpy as np"
   ]
  },
  {
   "cell_type": "code",
   "execution_count": 2,
   "metadata": {},
   "outputs": [],
   "source": [
    "with open(\"Embedding/movieEmbedding3.txt\", encoding=\"utf-8\") as embFile:\n",
    "    total_file = embFile.read().split(\"\\n\")\n",
    "with open(\"ID_Title.tsv\") as embFile:\n",
    "    title_file = embFile.read().split(\"\\n\")\n",
    "title_list = []\n",
    "for line in title_file[1:-1]:\n",
    "    title_list.append(line.split(\"\\t\")[1])"
   ]
  },
  {
   "cell_type": "code",
   "execution_count": 3,
   "metadata": {},
   "outputs": [],
   "source": [
    "def parse_line(line:str):\n",
    "    for i in range(len(line)-1,-1,-1):\n",
    "        if line[i] == \"[\":\n",
    "            index = i\n",
    "            break\n",
    "    title = line[:i-1]\n",
    "    emb = line[i+1:]\n",
    "    return title, emb"
   ]
  },
  {
   "cell_type": "code",
   "execution_count": 4,
   "metadata": {},
   "outputs": [],
   "source": [
    "def parse_emb(emb:str):\n",
    "    emb_out = []\n",
    "    start = 0\n",
    "    end = 0\n",
    "    flag = True\n",
    "    sFlag = True\n",
    "    for i in range(len(emb)):\n",
    "        if emb[i] != \" \" and sFlag == True:\n",
    "            start = i\n",
    "            sFlag = False\n",
    "            flag = False\n",
    "        if emb[i] == \" \" and flag == False:\n",
    "            end = i\n",
    "            flag = True\n",
    "        if emb[i] != \" \" and flag == True:\n",
    "            emb_out.append(float(emb[start:end]))\n",
    "            start = i\n",
    "            flag = False\n",
    "    if flag == True:\n",
    "        emb_out.append(float(emb[start:end]))\n",
    "    if end < len(emb):\n",
    "        try:\n",
    "            emb_out.append(float(emb[end:]))\n",
    "        except:\n",
    "            pass\n",
    "    return emb_out"
   ]
  },
  {
   "cell_type": "code",
   "execution_count": 5,
   "metadata": {
    "tags": []
   },
   "outputs": [
    {
     "output_type": "stream",
     "name": "stdout",
     "text": [
      "34886\n34886\n"
     ]
    }
   ],
   "source": [
    "lol = 0\n",
    "total_emb = []\n",
    "emb_title = []\n",
    "for i in range(len(total_file)):\n",
    "    line = total_file[i]\n",
    "    if line.find(\"[\") != -1:\n",
    "        title, emb = parse_line(line)\n",
    "        emb_title.append(title)\n",
    "        for j in range(i+1, i+13):\n",
    "            if total_file[j].find(\"]\") != -1:\n",
    "                index = j\n",
    "                lol += 1\n",
    "                emb += total_file[j][:-1]\n",
    "                break\n",
    "            else:\n",
    "                emb += \"  \" + total_file[j]\n",
    "        emb_movie = parse_emb(emb)\n",
    "        total_emb.append(emb_movie)\n",
    "total_emb = np.array(total_emb)\n",
    "print(lol)\n",
    "print(len(total_emb))"
   ]
  },
  {
   "cell_type": "code",
   "execution_count": 8,
   "metadata": {},
   "outputs": [
    {
     "output_type": "stream",
     "name": "stdout",
     "text": [
      "10370\n9158\n"
     ]
    }
   ],
   "source": [
    "ID_emb = np.zeros([len(title_list),max_emb_l])\n",
    "lol = 0 \n",
    "Overlap_list = []\n",
    "for i in range(len(total_emb)):\n",
    "    title = emb_title[i]\n",
    "    try:\n",
    "        kth = title_list.index(title)\n",
    "        ID_emb[kth,:] = total_emb[i]\n",
    "        lol += 1\n",
    "        Overlap_list.append(kth)\n",
    "    except:\n",
    "        pass\n",
    "print(lol)\n",
    "Overlap_list = list(set(Overlap_list))\n",
    "print(len(Overlap_list))"
   ]
  },
  {
   "cell_type": "code",
   "execution_count": 9,
   "metadata": {},
   "outputs": [
    {
     "output_type": "stream",
     "name": "stdout",
     "text": [
      "19199\n"
     ]
    }
   ],
   "source": [
    "rating = np.load(\"npRatings.npy\")\n",
    "rating_ID = []\n",
    "for i in range(len(rating)):\n",
    "    if rating[i] != -1:\n",
    "        rating_ID.append(i)\n",
    "print(len(rating_ID))"
   ]
  },
  {
   "cell_type": "code",
   "execution_count": 10,
   "metadata": {},
   "outputs": [
    {
     "output_type": "stream",
     "name": "stdout",
     "text": [
      "8510\n"
     ]
    }
   ],
   "source": [
    "def Ov(list1, list2):\n",
    "    return list(set(list1) & set(list2))\n",
    "print(len(Ov(rating_ID, Overlap_list)))"
   ]
  },
  {
   "cell_type": "code",
   "execution_count": 24,
   "metadata": {},
   "outputs": [],
   "source": [
    "attr = np.load(\"npHot.npy\")\n",
    "attrWEmb = []\n",
    "for ID in Ov(rating_ID, Overlap_list):\n",
    "    attrWEmb.append(np.concatenate([ID_emb[ID,:], attr[ID,:], rating[ID].reshape([1])]))\n",
    "attrWEmb = np.array(attrWEmb)\n",
    "# np.save(\"npAttrEmbOv.npy\", attrWEmb)"
   ]
  },
  {
   "cell_type": "code",
   "execution_count": 7,
   "metadata": {},
   "outputs": [
    {
     "output_type": "stream",
     "name": "stdout",
     "text": [
      "50\n50\n"
     ]
    }
   ],
   "source": [
    "sss = np.random.choice(list(range(len(total_emb))), 10)\n",
    "max_emb_l = 0\n",
    "min_emb_l = 1000\n",
    "for item in total_emb:\n",
    "    emb_l = len(item)\n",
    "    if emb_l > max_emb_l:\n",
    "        max_emb_l = emb_l\n",
    "    if emb_l < min_emb_l:\n",
    "        min_emb_l = emb_l\n",
    "print(max_emb_l)\n",
    "print(min_emb_l)"
   ]
  },
  {
   "cell_type": "code",
   "execution_count": 24,
   "metadata": {
    "tags": []
   },
   "outputs": [
    {
     "output_type": "stream",
     "name": "stdout",
     "text": [
      "8510\n2782\n5728\n8510\n"
     ]
    }
   ],
   "source": [
    "OvList = Ov(rating_ID, Overlap_list)\r\n",
    "with open(\"title_DvI.txt\") as f:\r\n",
    "    DvI_file = f.read().split(\"\\n\")\r\n",
    "DvI_ID = []\r\n",
    "for ID in OvList:\r\n",
    "    if title_list[ID] in DvI_file:\r\n",
    "        DvI_ID.append(ID)\r\n",
    "DmI_ID = list(set(OvList) - set(DvI_ID))\r\n",
    "print(len(OvList))\r\n",
    "print(len(DvI_ID))\r\n",
    "print(len(DmI_ID))"
   ]
  },
  {
   "cell_type": "code",
   "execution_count": 27,
   "metadata": {},
   "outputs": [],
   "source": [
    "new_index_DvI = []\n",
    "for i in DvI_ID:\n",
    "    new_index_DvI.append(OvList.index(i))\n",
    "new_index_DmI = []\n",
    "for i in DmI_ID:\n",
    "    new_index_DmI.append(OvList.index(i))\n",
    "index_dict = {\"IMDBIntersectDouban\": new_index_DvI, \"IMDBDifferenceDouban\": new_index_DmI}\n",
    "np.save(\"npIMDBvsDoubanSetOp.npy\", index_dict)"
   ]
  },
  {
   "cell_type": "code",
   "execution_count": 40,
   "metadata": {
    "tags": []
   },
   "outputs": [
    {
     "output_type": "stream",
     "name": "stdout",
     "text": [
      "19964\n"
     ]
    }
   ],
   "source": [
    "lol = 0\n",
    "for i in range(len(total_file)):\n",
    "    line = total_file[i]\n",
    "    if line == \"\":\n",
    "        try:\n",
    "            t = title_file[lol]\n",
    "            t_n = total_file[i+1].split(\"[\")[0][:-1]\n",
    "        \n",
    "            if t != t_n and total_file[i+1][0] !=\"[\":\n",
    "                print(t, t_n)\n",
    "                print(lol)\n",
    "                break\n",
    "            else:\n",
    "                lol += 1\n",
    "        except:\n",
    "            print(lol)\n",
    "print(lol)"
   ]
  },
  {
   "cell_type": "code",
   "execution_count": null,
   "metadata": {},
   "outputs": [],
   "source": []
  },
  {
   "cell_type": "code",
   "execution_count": 5,
   "metadata": {},
   "outputs": [],
   "source": [
    "with open(\"Genre_ID.tsv\", \"r\") as f:\n",
    "    genreList = []\n",
    "    for line in f.read().split(\"\\n\")[:-1]:\n",
    "        genreList.append(line.split(\"\\t\")[1])\n",
    "with open(\"Language_ID.tsv\", \"r\") as f:\n",
    "    languageList = []\n",
    "    for line in f.read().split(\"\\n\")[:-1]:\n",
    "        languageList.append(line.split(\"\\t\")[1])\n",
    "with open(\"Region_ID.tsv\", \"r\") as f:\n",
    "    regionList = []\n",
    "    for line in f.read().split(\"\\n\")[:-1]:\n",
    "        regionList.append(line.split(\"\\t\")[1])"
   ]
  },
  {
   "cell_type": "code",
   "execution_count": 6,
   "metadata": {},
   "outputs": [],
   "source": [
    "class Movie():\n",
    "    def __init__(self, attributes, genreList, languageList, regionList):\n",
    "        self.ID = None\n",
    "        self.title = attributes[2]\n",
    "        self.isAdult = int(attributes[3])\n",
    "        self.startYear = self.get_num(attributes[4])\n",
    "        self.endYear = self.get_num(attributes[5])\n",
    "        self.length = self.get_num(attributes[6])\n",
    "        self.genres = self.get_cat(attributes[7], genreList)\n",
    "        self.region = self.get_cat(attributes[8], regionList)[0]\n",
    "        self.language = self.get_cat(attributes[9], languageList)[0]\n",
    "        self.rating = self.get_num(attributes[10])\n",
    "    \n",
    "    def get_cat(self, attribute:str, aList:list):\n",
    "        myList = []\n",
    "        for a in attribute.replace(\"\\\"\",\"\").split(\",\"):\n",
    "            index = aList.index(a) - 1\n",
    "            myList.append(index)\n",
    "        return myList\n",
    "    \n",
    "    def get_num(self, attribute:str):\n",
    "        try:\n",
    "            attribute = float(attribute)\n",
    "        except:\n",
    "            attribute = -1.\n",
    "        return attribute"
   ]
  },
  {
   "cell_type": "code",
   "execution_count": 7,
   "metadata": {
    "tags": []
   },
   "outputs": [],
   "source": [
    "all_movie = []\n",
    "i = 0\n",
    "for line in total_file[1:-1]:\n",
    "    m = Movie(line.split(\"\\t\"), genreList, languageList, regionList)\n",
    "    if m.rating != \"\\\\N\":\n",
    "        m.ID = i\n",
    "        i +=1\n",
    "        all_movie.append(m)"
   ]
  },
  {
   "cell_type": "code",
   "execution_count": 8,
   "metadata": {},
   "outputs": [],
   "source": [
    "with open(\"ID_Title.tsv\", \"w+\") as f:\n",
    "    f.write(\"ID\\tTitle\\n\")\n",
    "    for m in all_movie:\n",
    "        f.write(str(m.ID) + \"\\t\" + m.title + \"\\n\")"
   ]
  },
  {
   "cell_type": "code",
   "execution_count": 9,
   "metadata": {},
   "outputs": [],
   "source": [
    "with open(\"ID_Rating.tsv\", \"w+\") as f:\n",
    "    f.write(\"ID\\tRating\\n\")\n",
    "    for m in all_movie:\n",
    "        f.write(str(m.ID) + \"\\t\" + str(m.rating) + \"\\n\")"
   ]
  },
  {
   "cell_type": "code",
   "execution_count": 11,
   "metadata": {},
   "outputs": [],
   "source": [
    "with open(\"ID_Attributes.tsv\", \"w+\") as f:\n",
    "    f.write(\"ID\\tisAdult\\tstartYear\\tendYear\\tlength\\tgenres\\tregion\\tlanguage\\n\")\n",
    "    for m in all_movie:\n",
    "        f.write(str(m.ID) + \"\\t\" + str(m.isAdult) + \"\\t\" + str(m.startYear) + \"\\t\" + str(m.endYear) + \"\\t\" + str(m.length) + \"\\t\" + str(m.genres).replace(\"[\",\"\").replace(\"]\",\"\")  + \"\\t\" + str(m.region)  + \"\\t\" + str(m.language) +\"\\n\")"
   ]
  },
  {
   "cell_type": "code",
   "execution_count": 21,
   "metadata": {},
   "outputs": [],
   "source": [
    "npAttributes = np.zeros([len(all_movie),10])\n",
    "def expand(mIn, size):\n",
    "    small = len(mIn)\n",
    "    assert small <= size\n",
    "    r = [-1 for _ in range(size)]\n",
    "    r[:small] = mIn \n",
    "    return r\n",
    "\n",
    "for i, m in enumerate(all_movie):\n",
    "    npAttributes[i,:5] = [m.ID, m.isAdult,m.startYear,m.endYear,m.length]\n",
    "    npAttributes[i,5:8] = expand(m.genres,3)\n",
    "    npAttributes[i,8:] = [m.region, m.language]\n",
    "np.save(\"npAttributes\",npAttributes)"
   ]
  },
  {
   "cell_type": "code",
   "execution_count": 22,
   "metadata": {},
   "outputs": [],
   "source": [
    "ratings = []\n",
    "for i, m in enumerate(all_movie):\n",
    "    ratings.append(m.rating)\n",
    "np.save(\"npRatings\", ratings)"
   ]
  },
  {
   "cell_type": "code",
   "execution_count": null,
   "metadata": {},
   "outputs": [],
   "source": []
  }
 ]
}