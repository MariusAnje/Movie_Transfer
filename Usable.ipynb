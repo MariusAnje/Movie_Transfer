{
 "metadata": {
  "language_info": {
   "codemirror_mode": {
    "name": "ipython",
    "version": 3
   },
   "file_extension": ".py",
   "mimetype": "text/x-python",
   "name": "python",
   "nbconvert_exporter": "python",
   "pygments_lexer": "ipython3",
   "version": "3.7.4-final"
  },
  "orig_nbformat": 2,
  "kernelspec": {
   "name": "python3",
   "display_name": "Python 3.7.4 64-bit (conda)",
   "metadata": {
    "interpreter": {
     "hash": "04f3ce0738d928d74413a2b10d0d4c487f39bbf2ffd0e3f43a6ab028b956cd75"
    }
   }
  }
 },
 "nbformat": 4,
 "nbformat_minor": 2,
 "cells": [
  {
   "cell_type": "code",
   "execution_count": 1,
   "metadata": {},
   "outputs": [],
   "source": [
    "import numpy as np"
   ]
  },
  {
   "cell_type": "code",
   "execution_count": 2,
   "metadata": {},
   "outputs": [],
   "source": [
    "with open(\"Total_movie.tsv\") as tsvfile:\n",
    "    total_file = tsvfile.read().split(\"\\n\")"
   ]
  },
  {
   "cell_type": "code",
   "execution_count": 3,
   "metadata": {},
   "outputs": [
    {
     "output_type": "stream",
     "name": "stdout",
     "text": [
      "tconst\t titleType\t primaryTitle\t isAdult\t startYear\t endYear\t runtimeMinutes\t genres\t region\t language\tIMDB rating\n"
     ]
    }
   ],
   "source": [
    "print(total_file[0])"
   ]
  },
  {
   "cell_type": "code",
   "execution_count": 4,
   "metadata": {},
   "outputs": [
    {
     "output_type": "execute_result",
     "data": {
      "text/plain": [
       "'\\nCodes used to generate catagorical IDs, should not be run again as the ID has already been genrated\\n'"
      ]
     },
     "metadata": {},
     "execution_count": 4
    }
   ],
   "source": [
    "\"\"\"\n",
    "Codes used to generate catagorical IDs, should not be run again as the ID has already been genrated\n",
    "\"\"\"\n",
    "# genreList = []\n",
    "# for line in total_file[1:]:\n",
    "#     if len(line) > 1:\n",
    "#         genres = line.split(\"\\t\")[7].split(\",\")\n",
    "#         for g in genres:\n",
    "#             g = g.replace(\"\\\"\",\"\")\n",
    "#             if not (g in genreList):\n",
    "#                 genreList.append(g)\n",
    "# genreList.remove(\"\\\\N\")\n",
    "# genreList = [\"\\\\N\"] + genreList\n",
    "# print(len(genreList))\n",
    "# with open(\"Genre_ID.tsv\", \"w+\") as f:\n",
    "#     for i, item in enumerate(genreList):\n",
    "#         f.write(f\"{i-1}\\t{item}\\n\")\n",
    "# regionList = []\n",
    "# for line in total_file[1:]:\n",
    "#     if len(line) > 1:\n",
    "#         regions = line.split(\"\\t\")[8].split(\",\")\n",
    "#         for r in regions:\n",
    "#             r = r.replace(\"\\\"\",\"\")\n",
    "#             if not (r in regionList):\n",
    "#                 regionList.append(r)\n",
    "# regionList.remove(\"\\\\N\")\n",
    "# regionList = [\"\\\\N\"] + regionList\n",
    "# print(len(regionList))\n",
    "# with open(\"Region_ID.tsv\", \"w+\") as f:\n",
    "#     for i, item in enumerate(regionList):\n",
    "#         f.write(f\"{i-1}\\t{item}\\n\")\n",
    "\n",
    "# languageList = []\n",
    "# for line in total_file[1:]:\n",
    "#     if len(line) > 1:\n",
    "#         languages = line.split(\"\\t\")[9].split(\",\")\n",
    "#         for l in languages:\n",
    "#             l = l.replace(\"\\\"\",\"\")\n",
    "#             if not (l in languageList):\n",
    "#                 languageList.append(l)\n",
    "# languageList.remove(\"\\\\N\")\n",
    "# languageList = [\"\\\\N\"] + languageList\n",
    "# print(len(languageList))\n",
    "# with open(\"Language_ID.tsv\", \"w+\") as f:\n",
    "#     for i, item in enumerate(languageList):\n",
    "#         f.write(f\"{i-1}\\t{item}\\n\")"
   ]
  },
  {
   "cell_type": "code",
   "execution_count": 5,
   "metadata": {},
   "outputs": [],
   "source": [
    "with open(\"Genre_ID.tsv\", \"r\") as f:\n",
    "    genreList = []\n",
    "    for line in f.read().split(\"\\n\")[:-1]:\n",
    "        genreList.append(line.split(\"\\t\")[1])\n",
    "with open(\"Language_ID.tsv\", \"r\") as f:\n",
    "    languageList = []\n",
    "    for line in f.read().split(\"\\n\")[:-1]:\n",
    "        languageList.append(line.split(\"\\t\")[1])\n",
    "with open(\"Region_ID.tsv\", \"r\") as f:\n",
    "    regionList = []\n",
    "    for line in f.read().split(\"\\n\")[:-1]:\n",
    "        regionList.append(line.split(\"\\t\")[1])"
   ]
  },
  {
   "cell_type": "code",
   "execution_count": 6,
   "metadata": {},
   "outputs": [],
   "source": [
    "class Movie():\n",
    "    def __init__(self, attributes, genreList, languageList, regionList):\n",
    "        self.ID = None\n",
    "        self.title = attributes[2]\n",
    "        self.isAdult = int(attributes[3])\n",
    "        self.startYear = self.get_num(attributes[4])\n",
    "        self.endYear = self.get_num(attributes[5])\n",
    "        self.length = self.get_num(attributes[6])\n",
    "        self.genres = self.get_cat(attributes[7], genreList)\n",
    "        self.region = self.get_cat(attributes[8], regionList)[0]\n",
    "        self.language = self.get_cat(attributes[9], languageList)[0]\n",
    "        self.rating = self.get_num(attributes[10])\n",
    "    \n",
    "    def get_cat(self, attribute:str, aList:list):\n",
    "        myList = []\n",
    "        for a in attribute.replace(\"\\\"\",\"\").split(\",\"):\n",
    "            index = aList.index(a) - 1\n",
    "            myList.append(index)\n",
    "        return myList\n",
    "    \n",
    "    def get_num(self, attribute:str):\n",
    "        try:\n",
    "            attribute = float(attribute)\n",
    "        except:\n",
    "            attribute = -1.\n",
    "        return attribute"
   ]
  },
  {
   "cell_type": "code",
   "execution_count": 7,
   "metadata": {
    "tags": []
   },
   "outputs": [],
   "source": [
    "all_movie = []\n",
    "i = 0\n",
    "for line in total_file[1:-1]:\n",
    "    m = Movie(line.split(\"\\t\"), genreList, languageList, regionList)\n",
    "    if m.rating != \"\\\\N\":\n",
    "        m.ID = i\n",
    "        i +=1\n",
    "        all_movie.append(m)"
   ]
  },
  {
   "cell_type": "code",
   "execution_count": 8,
   "metadata": {},
   "outputs": [],
   "source": [
    "with open(\"ID_Title.tsv\", \"w+\") as f:\n",
    "    f.write(\"ID\\tTitle\\n\")\n",
    "    for m in all_movie:\n",
    "        f.write(str(m.ID) + \"\\t\" + m.title + \"\\n\")"
   ]
  },
  {
   "cell_type": "code",
   "execution_count": 9,
   "metadata": {},
   "outputs": [],
   "source": [
    "with open(\"ID_Rating.tsv\", \"w+\") as f:\n",
    "    f.write(\"ID\\tRating\\n\")\n",
    "    for m in all_movie:\n",
    "        f.write(str(m.ID) + \"\\t\" + str(m.rating) + \"\\n\")"
   ]
  },
  {
   "cell_type": "code",
   "execution_count": 11,
   "metadata": {},
   "outputs": [],
   "source": [
    "with open(\"ID_Attributes.tsv\", \"w+\") as f:\n",
    "    f.write(\"ID\\tisAdult\\tstartYear\\tendYear\\tlength\\tgenres\\tregion\\tlanguage\\n\")\n",
    "    for m in all_movie:\n",
    "        f.write(str(m.ID) + \"\\t\" + str(m.isAdult) + \"\\t\" + str(m.startYear) + \"\\t\" + str(m.endYear) + \"\\t\" + str(m.length) + \"\\t\" + str(m.genres).replace(\"[\",\"\").replace(\"]\",\"\")  + \"\\t\" + str(m.region)  + \"\\t\" + str(m.language) +\"\\n\")"
   ]
  },
  {
   "cell_type": "code",
   "execution_count": 21,
   "metadata": {},
   "outputs": [],
   "source": [
    "npAttributes = np.zeros([len(all_movie),10])\n",
    "def expand(mIn, size):\n",
    "    small = len(mIn)\n",
    "    assert small <= size\n",
    "    r = [-1 for _ in range(size)]\n",
    "    r[:small] = mIn \n",
    "    return r\n",
    "\n",
    "for i, m in enumerate(all_movie):\n",
    "    npAttributes[i,:5] = [m.ID, m.isAdult,m.startYear,m.endYear,m.length]\n",
    "    npAttributes[i,5:8] = expand(m.genres,3)\n",
    "    npAttributes[i,8:] = [m.region, m.language]\n",
    "np.save(\"npAttributes\",npAttributes)"
   ]
  },
  {
   "cell_type": "code",
   "execution_count": 22,
   "metadata": {},
   "outputs": [],
   "source": [
    "ratings = []\n",
    "for i, m in enumerate(all_movie):\n",
    "    ratings.append(m.rating)\n",
    "np.save(\"npRatings\", ratings)"
   ]
  },
  {
   "cell_type": "code",
   "execution_count": null,
   "metadata": {},
   "outputs": [],
   "source": []
  }
 ]
}