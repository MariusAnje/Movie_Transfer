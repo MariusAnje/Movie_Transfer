{
 "metadata": {
  "language_info": {
   "codemirror_mode": {
    "name": "ipython",
    "version": 3
   },
   "file_extension": ".py",
   "mimetype": "text/x-python",
   "name": "python",
   "nbconvert_exporter": "python",
   "pygments_lexer": "ipython3",
   "version": "3.7.4-final"
  },
  "orig_nbformat": 2,
  "kernelspec": {
   "name": "python3",
   "display_name": "Python 3.7.4 64-bit (conda)",
   "metadata": {
    "interpreter": {
     "hash": "04f3ce0738d928d74413a2b10d0d4c487f39bbf2ffd0e3f43a6ab028b956cd75"
    }
   }
  }
 },
 "nbformat": 4,
 "nbformat_minor": 2,
 "cells": [
  {
   "cell_type": "code",
   "execution_count": 1,
   "metadata": {},
   "outputs": [],
   "source": [
    "import pandas\n",
    "import csv\n",
    "import numpy as np\n",
    "from tqdm.notebook import tqdm\n",
    "import torch\n",
    "import sys"
   ]
  },
  {
   "cell_type": "code",
   "execution_count": 2,
   "metadata": {},
   "outputs": [],
   "source": [
    "IMDB_titles = []\n",
    "with open(\"title.basics.tsv\", encoding='utf-8') as tsvfile:\n",
    "    tsvreader = csv.reader(tsvfile, delimiter=\"\\t\")\n",
    "    for line in tsvreader:\n",
    "        IMDB_titles.append(line[2])"
   ]
  },
  {
   "cell_type": "code",
   "execution_count": 3,
   "metadata": {},
   "outputs": [],
   "source": [
    "with open(\"title_DvI.txt\",\"r\") as f:\n",
    "    DvI = f.read().split(\"\\n\")\n",
    "with open(\"title_MvI.txt\",\"r\") as f:\n",
    "    MvI = f.read().split(\"\\n\")"
   ]
  },
  {
   "cell_type": "code",
   "execution_count": 4,
   "metadata": {
    "tags": []
   },
   "outputs": [],
   "source": [
    "Total_Movie = list(set(DvI + MvI))\n",
    "i = 0\n",
    "max_iter = len(Total_Movie)\n",
    "lol = 0\n",
    "tsvfile =  open(\"title.basics.tsv\", encoding='utf-8')\n",
    "tsvreader = list(csv.reader(tsvfile, delimiter=\"\\t\"))\n",
    "tsvfile_aka =  open(\"title.akas.new.tsv\", encoding='utf-8')\n",
    "tsvreader_aka = list(csv.reader(tsvfile_aka, delimiter=\"\\t\"))\n",
    "tsvfile_rating =  open(\"title.ratings.tsv\", encoding='utf-8')\n",
    "tsvreader_rating= list(csv.reader(tsvfile_rating, delimiter=\"\\t\"))"
   ]
  },
  {
   "cell_type": "code",
   "execution_count": 6,
   "metadata": {},
   "outputs": [],
   "source": [
    "ID_list = []\n",
    "for line in tsvreader_aka:\n",
    "    ID_list.append(line[0])\n",
    "rating_ID = []\n",
    "for line in tsvreader_rating:\n",
    "    rating_ID.append(line[0])"
   ]
  },
  {
   "cell_type": "code",
   "execution_count": 9,
   "metadata": {},
   "outputs": [
    {
     "output_type": "display_data",
     "data": {
      "text/plain": "HBox(children=(HTML(value=''), FloatProgress(value=0.0, max=20981.0), HTML(value='')))",
      "application/vnd.jupyter.widget-view+json": {
       "version_major": 2,
       "version_minor": 0,
       "model_id": "55d12e625b65445da95c6d2760145127"
      }
     },
     "metadata": {}
    },
    {
     "output_type": "stream",
     "name": "stdout",
     "text": [
      "\n"
     ]
    }
   ],
   "source": [
    "f = open(\"Total_movie.tsv\", \"w+\")\n",
    "f.write(\"tconst\\t titleType\\t primaryTitle\\t isAdult\\t startYear\\t endYear\\t runtimeMinutes\\t genres\\t region\\t language\\t rating\\n\")\n",
    "for title in tqdm(Total_Movie):\n",
    "    index = IMDB_titles.index(title)\n",
    "    line = tsvreader[index]\n",
    "    try:\n",
    "        aka_id = ID_list.index(line[0])\n",
    "        aka = tsvreader_aka[aka_id]\n",
    "    except:\n",
    "        aka = [\"\\\\N\", \"\\\\N\", \"\\\\N\",\"\\\\N\"]\n",
    "    try:\n",
    "        rating_id = rating_ID.index(line[0])\n",
    "        rating = tsvreader_rating[rating_id]\n",
    "    except:\n",
    "        rating = [\"\\\\N\", \"\\\\N\", \"\\\\N\",\"\\\\N\"]\n",
    "    # print(title)\n",
    "    # print(line, aka, index)\n",
    "    if line[2] != title:\n",
    "        print(title)\n",
    "        break\n",
    "    f.write(line[0] + \"\\t\" + line[1]  + \"\\t\" + line[3] + \"\\t\" + line[4] + \"\\t\" + line[5] + \"\\t\" + line[6] + \"\\t\" + line[7] + \"\\t\" + line[8] + \"\\t\" + aka[1] + \"\\t\" + aka[2] + \"\\t\" + rating[1] + \"\\n\")\n",
    "    # break\n",
    "f.close()"
   ]
  },
  {
   "cell_type": "code",
   "execution_count": null,
   "metadata": {},
   "outputs": [],
   "source": []
  }
 ]
}