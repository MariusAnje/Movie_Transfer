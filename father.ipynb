{
 "metadata": {
  "language_info": {
   "codemirror_mode": {
    "name": "ipython",
    "version": 3
   },
   "file_extension": ".py",
   "mimetype": "text/x-python",
   "name": "python",
   "nbconvert_exporter": "python",
   "pygments_lexer": "ipython3",
   "version": "3.7.4-final"
  },
  "orig_nbformat": 2,
  "kernelspec": {
   "name": "python3",
   "display_name": "Python 3.7.4 64-bit (conda)",
   "metadata": {
    "interpreter": {
     "hash": "04f3ce0738d928d74413a2b10d0d4c487f39bbf2ffd0e3f43a6ab028b956cd75"
    }
   }
  }
 },
 "nbformat": 4,
 "nbformat_minor": 2,
 "cells": [
  {
   "cell_type": "code",
   "execution_count": 12,
   "metadata": {},
   "outputs": [],
   "source": [
    "import pandas\n",
    "import csv\n",
    "import numpy as np\n",
    "from tqdm.notebook import tqdm\n",
    "import torch\n",
    "import sys"
   ]
  },
  {
   "cell_type": "code",
   "execution_count": 2,
   "metadata": {},
   "outputs": [],
   "source": [
    "IMDB_titles = []\n",
    "with open(\"data/IMDBtitle.basics.tsv\", encoding='utf-8') as tsvfile:\n",
    "    tsvreader = csv.reader(tsvfile, delimiter=\"\\t\")\n",
    "    for line in tsvreader:\n",
    "        IMDB_titles.append(line[2])"
   ]
  },
  {
   "cell_type": "code",
   "execution_count": 3,
   "metadata": {},
   "outputs": [],
   "source": [
    "ML_titles = []\n",
    "with open(\"data/MovieLens/movie.csv\", encoding='utf-8') as csvfile:\n",
    "    csvreader = csv.reader(csvfile, delimiter=\",\")\n",
    "    for line in csvreader:\n",
    "        ML_titles.append(line[1])"
   ]
  },
  {
   "cell_type": "code",
   "execution_count": 4,
   "metadata": {
    "tags": []
   },
   "outputs": [
    {
     "output_type": "stream",
     "name": "stderr",
     "text": [
      "ipykernel_launcher:4: TqdmDeprecationWarning: This function will be removed in tqdm==5.0.0\nPlease use `tqdm.notebook.tqdm` instead of `tqdm.tqdm_notebook`\n"
     ]
    },
    {
     "output_type": "display_data",
     "data": {
      "text/plain": "HBox(children=(HTML(value=''), FloatProgress(value=1.0, bar_style='info', layout=Layout(width='20px'), max=1.0…",
      "application/vnd.jupyter.widget-view+json": {
       "version_major": 2,
       "version_minor": 0,
       "model_id": "38313708ccc54740a8d8c2fdf6dc9b66"
      }
     },
     "metadata": {}
    },
    {
     "output_type": "stream",
     "name": "stdout",
     "text": [
      "\n"
     ]
    }
   ],
   "source": [
    "Douban_titles = []\n",
    "with open(\"data/Douban/all_movies_with_id.txt\", encoding='utf-8') as doubanfile:\n",
    "    doubanreader = csv.reader(doubanfile, delimiter=\",\")\n",
    "    for line in tqdm(doubanreader):\n",
    "        Douban_titles.append(line[1])\n",
    "Douban_titles = list(set(Douban_titles))"
   ]
  },
  {
   "cell_type": "code",
   "execution_count": 5,
   "metadata": {
    "tags": []
   },
   "outputs": [
    {
     "output_type": "stream",
     "name": "stdout",
     "text": [
      "10270\n8403\n8403\n"
     ]
    }
   ],
   "source": [
    "WE_list = []\n",
    "for i in range(len(Douban_titles)):\n",
    "    item = Douban_titles[i]\n",
    "    index = item.find(\" \")\n",
    "    if index == -1:\n",
    "        pass\n",
    "    else:\n",
    "        item = item[index+1:]\n",
    "        WE_list.append(i)\n",
    "        Douban_titles[i] = item\n",
    "Douban_titles_new = []\n",
    "for j in WE_list:\n",
    "    Douban_titles_new.append(Douban_titles[j])\n",
    "print(len(Douban_titles))\n",
    "print(len(WE_list))\n",
    "print(len(Douban_titles_new))"
   ]
  },
  {
   "cell_type": "code",
   "execution_count": 6,
   "metadata": {},
   "outputs": [],
   "source": [
    "for i in range(len(ML_titles)):\n",
    "    item = ML_titles[i]\n",
    "    index = item.find(\"(\")\n",
    "    if index != -1:\n",
    "        item = item[:index - 1]\n",
    "        ML_titles[i] = item"
   ]
  },
  {
   "cell_type": "code",
   "execution_count": 7,
   "metadata": {},
   "outputs": [
    {
     "output_type": "stream",
     "name": "stdout",
     "text": [
      "0.362108729798271\n"
     ]
    }
   ],
   "source": [
    "lol = 0\n",
    "for item in IMDB_titles:\n",
    "    if item.find(\"Episode\") !=-1:\n",
    "        lol += 1\n",
    "print(lol / len(IMDB_titles))"
   ]
  },
  {
   "cell_type": "code",
   "execution_count": 8,
   "metadata": {},
   "outputs": [
    {
     "output_type": "stream",
     "name": "stderr",
     "text": [
      "ipykernel_launcher:2: TqdmDeprecationWarning: This function will be removed in tqdm==5.0.0\nPlease use `tqdm.notebook.tqdm` instead of `tqdm.tqdm_notebook`\n"
     ]
    },
    {
     "output_type": "display_data",
     "data": {
      "text/plain": "HBox(children=(HTML(value=''), FloatProgress(value=0.0, max=8403.0), HTML(value='')))",
      "application/vnd.jupyter.widget-view+json": {
       "version_major": 2,
       "version_minor": 0,
       "model_id": "38c510f5a4424e45b835afb1b814b0fd"
      }
     },
     "metadata": {}
    },
    {
     "output_type": "stream",
     "name": "stdout",
     "text": [
      "\n5017\n"
     ]
    },
    {
     "output_type": "error",
     "ename": "TypeError",
     "evalue": "object of type 'int' has no len()",
     "traceback": [
      "\u001b[1;31m---------------------------------------------------------------------------\u001b[0m",
      "\u001b[1;31mTypeError\u001b[0m                                 Traceback (most recent call last)",
      "\u001b[1;32m<ipython-input-8-2f5e7ba8d527>\u001b[0m in \u001b[0;36m<module>\u001b[1;34m\u001b[0m\n\u001b[0;32m      6\u001b[0m     \u001b[0mloader\u001b[0m\u001b[1;33m.\u001b[0m\u001b[0mset_description\u001b[0m\u001b[1;33m(\u001b[0m\u001b[0mstr\u001b[0m\u001b[1;33m(\u001b[0m\u001b[0mlol\u001b[0m\u001b[1;33m)\u001b[0m\u001b[1;33m)\u001b[0m\u001b[1;33m\u001b[0m\u001b[1;33m\u001b[0m\u001b[0m\n\u001b[0;32m      7\u001b[0m \u001b[0mprint\u001b[0m\u001b[1;33m(\u001b[0m\u001b[0mlen\u001b[0m\u001b[1;33m(\u001b[0m\u001b[0mDvI\u001b[0m\u001b[1;33m)\u001b[0m\u001b[1;33m)\u001b[0m\u001b[1;33m\u001b[0m\u001b[1;33m\u001b[0m\u001b[0m\n\u001b[1;32m----> 8\u001b[1;33m \u001b[0mprint\u001b[0m\u001b[1;33m(\u001b[0m\u001b[0mlen\u001b[0m\u001b[1;33m(\u001b[0m\u001b[0mlol\u001b[0m\u001b[1;33m)\u001b[0m \u001b[1;33m/\u001b[0m \u001b[0mlen\u001b[0m\u001b[1;33m(\u001b[0m\u001b[0mDouban_titles_new\u001b[0m\u001b[1;33m)\u001b[0m\u001b[1;33m)\u001b[0m\u001b[1;33m\u001b[0m\u001b[1;33m\u001b[0m\u001b[0m\n\u001b[0m",
      "\u001b[1;31mTypeError\u001b[0m: object of type 'int' has no len()"
     ]
    }
   ],
   "source": [
    "DvI = []\n",
    "loader = tqdm(Douban_titles_new)\n",
    "for item in loader:\n",
    "    if item in IMDB_titles:\n",
    "        DvI.append(item)\n",
    "    loader.set_description(str(lol))\n",
    "print(len(DvI))\n",
    "print(len(DvI) / len(Douban_titles_new))\n",
    "f = open(\"title_DvI.txt\",\"w+\")\n",
    "for item in DvI:\n",
    "    f.write(item + \"\\n\")\n",
    "f.close()"
   ]
  },
  {
   "cell_type": "code",
   "execution_count": 17,
   "metadata": {},
   "outputs": [
    {
     "output_type": "display_data",
     "data": {
      "text/plain": "HBox(children=(HTML(value=''), FloatProgress(value=0.0, max=27279.0), HTML(value='')))",
      "application/vnd.jupyter.widget-view+json": {
       "version_major": 2,
       "version_minor": 0,
       "model_id": "5898be5e72ac40ee9d99b0d121acbd0d"
      }
     },
     "metadata": {}
    },
    {
     "output_type": "stream",
     "name": "stdout",
     "text": [
      "\n19964\n0.7318450089812676\n"
     ]
    }
   ],
   "source": [
    "MvI = []\n",
    "loader = tqdm(ML_titles)\n",
    "for item in loader:\n",
    "    if item in IMDB_titles:\n",
    "        MvI.append(item)\n",
    "    loader.set_description(str(len(MvI)))\n",
    "print(len(MvI))\n",
    "print(len(MvI) / len(ML_titles))\n",
    "f = open(\"title_MvI.txt\",\"w+\")\n",
    "for item in MvI:\n",
    "    f.write(item + \"\\n\")\n",
    "f.close()"
   ]
  },
  {
   "cell_type": "code",
   "execution_count": 10,
   "metadata": {
    "tags": []
   },
   "outputs": [],
   "source": []
  },
  {
   "cell_type": "code",
   "execution_count": 14,
   "metadata": {},
   "outputs": [
    {
     "output_type": "stream",
     "name": "stderr",
     "text": [
      "ipykernel_launcher:5: TqdmDeprecationWarning: This function will be removed in tqdm==5.0.0\nPlease use `tqdm.notebook.tqdm` instead of `tqdm.tqdm_notebook`\n"
     ]
    },
    {
     "output_type": "display_data",
     "data": {
      "text/plain": "HBox(children=(HTML(value=''), FloatProgress(value=1.0, bar_style='info', layout=Layout(width='20px'), max=1.0…",
      "application/vnd.jupyter.widget-view+json": {
       "version_major": 2,
       "version_minor": 0,
       "model_id": "ab2173c054534fcdb08a7070e6839994"
      }
     },
     "metadata": {}
    },
    {
     "output_type": "stream",
     "name": "stdout",
     "text": [
      "\n"
     ]
    }
   ],
   "source": [
    "csv.field_size_limit(565655215)\n",
    "IMDB_regions = []\n",
    "with open(\"title.akas.tsv\", encoding='utf-8') as tsvfile:\n",
    "    tsvreader = csv.reader(tsvfile, delimiter=\"\\t\")\n",
    "    for line in tqdm(tsvreader):\n",
    "        IMDB_regions.append(line[3])"
   ]
  },
  {
   "cell_type": "code",
   "execution_count": 17,
   "metadata": {},
   "outputs": [
    {
     "output_type": "stream",
     "name": "stderr",
     "text": [
      "ipykernel_launcher:5: TqdmDeprecationWarning: This function will be removed in tqdm==5.0.0\nPlease use `tqdm.notebook.tqdm` instead of `tqdm.tqdm_notebook`\n"
     ]
    },
    {
     "output_type": "display_data",
     "data": {
      "text/plain": "HBox(children=(HTML(value=''), FloatProgress(value=1.0, bar_style='info', layout=Layout(width='20px'), max=1.0…",
      "application/vnd.jupyter.widget-view+json": {
       "version_major": 2,
       "version_minor": 0,
       "model_id": "db4faa8be56b48d5aed55267c5426599"
      }
     },
     "metadata": {}
    },
    {
     "output_type": "stream",
     "name": "stdout",
     "text": [
      "\n"
     ]
    }
   ],
   "source": [
    "csv.field_size_limit(565655215)\n",
    "IMDB_languages = []\n",
    "with open(\"title.akas.tsv\", encoding='utf-8') as tsvfile:\n",
    "    tsvreader = csv.reader(tsvfile, delimiter=\"\\t\")\n",
    "    for line in tqdm(tsvreader):\n",
    "        IMDB_languages.append(line[4])"
   ]
  },
  {
   "cell_type": "code",
   "execution_count": 15,
   "metadata": {},
   "outputs": [
    {
     "output_type": "stream",
     "name": "stdout",
     "text": [
      "{'ZRCD', 'ET', 'PT', 'JM', 'NP', 'LS', 'CK', 'HR', '\\\\N', 'DDDE', 'IT', 'MS', 'GB', 'AW', 'AR', 'FR', 'DO', 'LU', 'UZ', 'SH', 'NO', 'BI', 'FI', 'ER', 'PR', 'VE', 'PK', 'TH', 'TM', 'KR', 'BS', 'KZ', 'ST', 'NZ', 'BN', 'AS', 'YUCS', 'UG', 'TD', 'XYU', 'LR', 'UY', 'NG', 'HU', 'PG', 'AN', 'CL', 'KN', 'RO', 'XSI', 'CU', 'LK', 'CI', 'KH', 'JP', 'AF', 'VG', 'SE', 'PE', 'PY', 'GD', 'GE', 'BA', 'PH', 'VN', 'SB', 'TT', 'KG', 'GW', 'DE', 'MP', 'BB', 'CSXX', 'MQ', 'OM', 'CA', 'CM', 'XEU', 'AO', 'MG', 'BUMM', 'MK', 'TG', 'KY', 'BE', 'CN', 'TW', 'SG', 'BJ', 'KE', 'US', 'SL', 'SN', 'EH', 'IM', 'WS', 'KI', 'CR', 'MN', 'MV', 'VU', 'region', 'MU', 'BM', 'LI', 'SC', 'MH', 'CV', 'AI', 'AZ', 'AT', 'RS', 'ZM', 'VA', 'NC', 'RU', 'IE', 'SO', 'CD', 'BG', 'TV', 'CY', 'BT', 'YE', 'SA', 'VI', 'ID', 'PL', 'XWW', 'EG', 'ZA', 'MZ', 'IQ', 'FO', 'GT', 'MD', 'DJ', 'EC', 'CSHH', 'TZ', 'XNA', 'XAU', 'AL', 'MM', 'WF', 'RE', 'TR', 'TN', 'IS', 'GA', 'AU', 'AM', 'AD', 'PS', 'GU', 'NR', 'MX', 'GF', 'QA', 'UA', 'SI', 'SUHH', 'DK', 'XKO', 'LV', 'VDVN', 'KP', 'CO', 'LA', 'NA', 'BH', 'ML', 'ME', 'NU', 'MW', 'PW', 'ES', 'SK', 'LT', 'AQ', 'LC', 'IR', 'TO', 'CF', 'BY', 'BR', 'GQ', 'MR', 'LY', 'GY', 'IL', 'DZ', 'NE', 'XKV', 'SY', 'HT', 'MT', 'FJ', 'XSA', 'GL', 'JO', 'SM', 'BW', 'RW', 'GP', 'HN', 'GI', 'ZW', 'DM', 'EE', 'CH', 'BD', 'PA', 'SR', 'KM', 'BO', 'CG', 'PF', 'XPI', 'BF', 'SD', 'GH', 'IN', 'AE', 'TJ', 'HK', 'GM', 'MO', 'AG', 'XAS', 'GR', 'TL', 'XWG', 'SZ', 'MY', 'VC', 'NL', 'JE', 'CZ', 'SV', 'MC', 'NI', 'KW', 'LB', 'GN', 'BZ', 'MA'}\n"
     ]
    }
   ],
   "source": [
    "print((set(IMDB_regions)))"
   ]
  },
  {
   "cell_type": "code",
   "execution_count": 22,
   "metadata": {},
   "outputs": [
    {
     "output_type": "stream",
     "name": "stdout",
     "text": [
      "0.16541092712573885\n"
     ]
    }
   ],
   "source": [
    "lol = 0\n",
    "for i in IMDB_languages:\n",
    "    if i == \"\\\\N\":\n",
    "        lol +=1\n",
    "print(lol/len(IMDB_languages))"
   ]
  },
  {
   "cell_type": "code",
   "execution_count": 23,
   "metadata": {},
   "outputs": [
    {
     "output_type": "stream",
     "name": "stdout",
     "text": [
      "0.023882279677420407\n"
     ]
    }
   ],
   "source": [
    "lol = 0\n",
    "for i in IMDB_regions:\n",
    "    if i == \"\\\\N\":\n",
    "        lol +=1\n",
    "print(lol/len(IMDB_regions))"
   ]
  },
  {
   "cell_type": "code",
   "execution_count": null,
   "metadata": {},
   "outputs": [],
   "source": []
  }
 ]
}