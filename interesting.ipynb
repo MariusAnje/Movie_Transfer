{
 "metadata": {
  "language_info": {
   "codemirror_mode": {
    "name": "ipython",
    "version": 3
   },
   "file_extension": ".py",
   "mimetype": "text/x-python",
   "name": "python",
   "nbconvert_exporter": "python",
   "pygments_lexer": "ipython3",
   "version": "3.7.4-final"
  },
  "orig_nbformat": 2,
  "kernelspec": {
   "name": "python3",
   "display_name": "Python 3.7.4 64-bit ('Mariu': virtualenv)",
   "metadata": {
    "interpreter": {
     "hash": "04f3ce0738d928d74413a2b10d0d4c487f39bbf2ffd0e3f43a6ab028b956cd75"
    }
   }
  }
 },
 "nbformat": 4,
 "nbformat_minor": 2,
 "cells": [
  {
   "cell_type": "code",
   "execution_count": 1,
   "metadata": {},
   "outputs": [],
   "source": [
    "import torch\n",
    "from torch import nn\n",
    "from torch import optim\n",
    "import numpy as np\n",
    "from tqdm.notebook import tqdm"
   ]
  },
  {
   "cell_type": "code",
   "execution_count": 2,
   "metadata": {},
   "outputs": [],
   "source": [
    "a = np.load(\"npHot.npy\")\n",
    "b = np.load(\"npRatings.npy\")\n",
    "dataset = []\n",
    "for i in range(len(a)):\n",
    "    dataset.append((a[i],b[i]))"
   ]
  },
  {
   "cell_type": "code",
   "execution_count": 3,
   "metadata": {},
   "outputs": [],
   "source": [
    "class Net(nn.Module):\n",
    "    def __init__(self):\n",
    "        super(Net, self).__init__()\n",
    "        self.fc1 = nn.Linear(159, 318)\n",
    "        self.fc2 = nn.Linear(318, 318)\n",
    "        self.fc3 = nn.Linear(318,10)\n",
    "        self.relu = nn.ReLU()\n",
    "        self.tail = nn.Softmax(dim=1)\n",
    "    def forward(self, x):\n",
    "        x = self.relu(self.fc1(x))\n",
    "        x = self.relu(self.fc2(x))\n",
    "        return (self.tail(self.fc3(x)) * (torch.Tensor(list(range(1,11))).to(x.device))).sum(dim=1)"
   ]
  },
  {
   "cell_type": "code",
   "execution_count": 4,
   "metadata": {},
   "outputs": [],
   "source": [
    "class Net(nn.Module):\n",
    "    def __init__(self):\n",
    "        super(Net, self).__init__()\n",
    "        self.fc11 = nn.Linear(3, 6)\n",
    "        self.fc21 = nn.Linear(6, 3)\n",
    "        self.fc12 = nn.Linear(28, 56)\n",
    "        self.fc22 = nn.Linear(56, 10)\n",
    "        self.fc13 = nn.Linear(93, 186)\n",
    "        self.fc23 = nn.Linear(186, 10)\n",
    "        self.fc14 = nn.Linear(35, 70)\n",
    "        self.fc24 = nn.Linear(70, 10)\n",
    "        self.fc2 = nn.Linear(33, 66)\n",
    "        self.fc3 = nn.Linear(66,10)\n",
    "        self.relu = nn.ReLU()\n",
    "        self.tail = nn.Softmax(dim=1)\n",
    "    def forward(self, x):\n",
    "        f11 = self.relu(self.fc11(x[:,:3]))\n",
    "        f12 = self.relu(self.fc12(x[:,3:31]))\n",
    "        f13 = self.relu(self.fc13(x[:,31:124]))\n",
    "        f14 = self.relu(self.fc14(x[:,124:159]))\n",
    "        f21 = self.relu(self.fc21(f11))\n",
    "        f22 = self.relu(self.fc22(f12))\n",
    "        f23 = self.relu(self.fc23(f13))\n",
    "        f24 = self.relu(self.fc24(f14))\n",
    "        x = self.relu(self.fc2(torch.cat([f21,f22,f23,f24],dim=1)))\n",
    "        return (self.tail(self.fc3(x)) * (torch.Tensor(list(range(1,11))).to(x.device))).sum(dim=1)"
   ]
  },
  {
   "cell_type": "code",
   "execution_count": 5,
   "metadata": {},
   "outputs": [],
   "source": [
    "def hot(cat:list, size:int):\n",
    "    a = [0 for _ in range(size)]\n",
    "    for i in cat:\n",
    "        if i != -1:\n",
    "            a[int(i.item())] = 1\n",
    "        else:\n",
    "            break\n",
    "    return a"
   ]
  },
  {
   "cell_type": "code",
   "execution_count": 6,
   "metadata": {},
   "outputs": [],
   "source": [
    "def expand_data(in_data):\n",
    "    a = []\n",
    "    for item in in_data:\n",
    "        lol = []\n",
    "        lol.append([item[1]])\n",
    "        lol.append([item[2]/2000])\n",
    "        lol.append([item[4]/120])\n",
    "        lol.append(hot(item[5:8], 28))\n",
    "        lol.append(hot([item[8]], 93))\n",
    "        lol.append(hot([item[9]], 35))\n",
    "        lol = np.concatenate(lol)\n",
    "        a.append(lol)\n",
    "    return torch.Tensor(a)"
   ]
  },
  {
   "cell_type": "code",
   "execution_count": 8,
   "metadata": {
    "tags": []
   },
   "outputs": [
    {
     "output_type": "display_data",
     "data": {
      "text/plain": "HBox(children=(HTML(value=''), FloatProgress(value=0.0, max=1000.0), HTML(value='')))",
      "application/vnd.jupyter.widget-view+json": {
       "version_major": 2,
       "version_minor": 0,
       "model_id": "21c35585de90415dbedd46e1eb98d9af"
      }
     },
     "metadata": {}
    }
   ],
   "source": [
    "loader = torch.utils.data.DataLoader(dataset, batch_size=1024, shuffle=True)\n",
    "device = torch.device(\"cuda:0\")\n",
    "model = Net()\n",
    "model = model.to(device)\n",
    "optimizer = optim.SGD(model.parameters(), 0.1, momentum=0.9)\n",
    "# optimizer = optim.Adam(model.parameters(), 0.1)\n",
    "# scheduler = optim.lr_scheduler.MultiStepLR(optimizer, [40, 60, 80], 0.8)\n",
    "scheduler = optim.lr_scheduler.MultiStepLR(optimizer, [300, 600, 900], 0.1)\n",
    "criteria = nn.MSELoss()\n",
    "loss_min = 10000\n",
    "iter_loader = tqdm(range(1000))\n",
    "for _ in iter_loader:\n",
    "    running_loss = 0.\n",
    "    i = 0\n",
    "    for data, labels in loader:\n",
    "        # data = expand_data(data)\n",
    "        data, labels = data.float().to(device), labels.to(device)\n",
    "        optimizer.zero_grad()\n",
    "        output = model(data)\n",
    "        # print(output.size())\n",
    "        loss = criteria(output, labels.view(output.size()).float())\n",
    "        loss.backward()\n",
    "        optimizer.step()\n",
    "        running_loss += loss.item()\n",
    "        i += 1\n",
    "    # print(running_loss/i)\n",
    "    scheduler.step()\n",
    "    iter_loader.set_description(f\"{running_loss/i:.4f}, {loss_min:.4f}\")\n",
    "    if running_loss/i < loss_min:\n",
    "        loss_min = running_loss/i\n",
    "    # print(output)\n",
    "print(loss_min)"
   ]
  },
  {
   "cell_type": "code",
   "execution_count": 27,
   "metadata": {},
   "outputs": [
    {
     "output_type": "stream",
     "name": "stdout",
     "text": [
      "501\n"
     ]
    }
   ],
   "source": [
    "print(len(output))"
   ]
  },
  {
   "cell_type": "code",
   "execution_count": 18,
   "metadata": {},
   "outputs": [
    {
     "output_type": "execute_result",
     "data": {
      "text/plain": [
       "(20981, 159)"
      ]
     },
     "metadata": {},
     "execution_count": 18
    }
   ],
   "source": [
    "def expand_data_lll(in_data):\n",
    "    a = []\n",
    "    for item in in_data:\n",
    "        lol = []\n",
    "        lol.append([item[1]])\n",
    "        lol.append([item[2]/2000])\n",
    "        lol.append([item[4]/120])\n",
    "        lol.append(hot(item[5:8], 28))\n",
    "        lol.append(hot([item[8]], 93))\n",
    "        lol.append(hot([item[9]], 35))\n",
    "        lol = np.concatenate(lol)\n",
    "        a.append(lol)\n",
    "    return a\n",
    "bbb = np.load(\"npAttributes.npy\")\n",
    "ttt = np.array(expand_data_lll(bbb))\n",
    "ttt.shape"
   ]
  },
  {
   "cell_type": "code",
   "execution_count": 20,
   "metadata": {},
   "outputs": [],
   "source": [
    "np.save(\"npHot.npy\", ttt)"
   ]
  },
  {
   "cell_type": "code",
   "execution_count": null,
   "metadata": {},
   "outputs": [],
   "source": []
  }
 ]
}